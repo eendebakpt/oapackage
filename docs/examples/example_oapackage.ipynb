{
 "cells": [
  {
   "cell_type": "markdown",
   "metadata": {},
   "source": [
    "# Example script for Python interface to Orthogonal Array package"
   ]
  },
  {
   "cell_type": "markdown",
   "metadata": {},
   "source": [
    "Pieter Eendebak <a href=\"mailto:pieter.eendebak@gmail.com\">pieter.eendebak@gmail.com</a>"
   ]
  },
  {
   "cell_type": "code",
   "execution_count": 1,
   "metadata": {},
   "outputs": [
    {
     "name": "stdout",
     "output_type": "stream",
     "text": [
      "oalib version: 2.4.10\n"
     ]
    }
   ],
   "source": [
    "import numpy as np\n",
    "import oapackage\n",
    "print('oalib version: %s' % oapackage.version() )"
   ]
  },
  {
   "cell_type": "markdown",
   "metadata": {},
   "source": [
    "Load an example array"
   ]
  },
  {
   "cell_type": "code",
   "execution_count": 2,
   "metadata": {},
   "outputs": [
    {
     "name": "stdout",
     "output_type": "stream",
     "text": [
      "array: \n",
      "  0   0\n",
      "  0   0\n",
      "  0   1\n",
      "  0   1\n",
      "  1   0\n",
      "  1   0\n",
      "  1   1\n",
      "  1   1\n"
     ]
    }
   ],
   "source": [
    "al=oapackage.exampleArray(0)\n",
    "al.showarray()"
   ]
  },
  {
   "cell_type": "markdown",
   "metadata": {},
   "source": [
    "Calculate properties of the array such as its generalized word length pattern and its rank."
   ]
  },
  {
   "cell_type": "code",
   "execution_count": 3,
   "metadata": {},
   "outputs": [
    {
     "name": "stdout",
     "output_type": "stream",
     "text": [
      "D-efficiency 1.000000, rank 2\n",
      "Generalized wordlength pattern: (1.0, 0.0, 0.0)\n"
     ]
    }
   ],
   "source": [
    "print('D-efficiency %f, rank %d' % (al.Defficiency(), al.rank()) )\n",
    "print('Generalized wordlength pattern: %s' % str(al.GWLP()))"
   ]
  },
  {
   "cell_type": "markdown",
   "metadata": {},
   "source": [
    "Calculate the generalized word length pattern for another example array."
   ]
  },
  {
   "cell_type": "code",
   "execution_count": 6,
   "metadata": {},
   "outputs": [
    {
     "name": "stdout",
     "output_type": "stream",
     "text": [
      "Generalized wordlength pattern: (1.0, 0.022727272727272728, 0.03925619834710744, 0.5433884297520661, 0.8243801652892562, 2.2169421487603307, 1.0433884297520661, 0.12603305785123967, 0.002066115702479339)\n"
     ]
    }
   ],
   "source": [
    "al=oapackage.exampleArray(11)\n",
    "print('Generalized wordlength pattern: %s' % str(al.GWLP()))"
   ]
  },
  {
   "cell_type": "markdown",
   "metadata": {},
   "source": [
    "## Indexing"
   ]
  },
  {
   "cell_type": "markdown",
   "metadata": {},
   "source": [
    "The `array_link` object can be indexed as a normal array."
   ]
  },
  {
   "cell_type": "code",
   "execution_count": 11,
   "metadata": {},
   "outputs": [
    {
     "data": {
      "text/plain": [
       "array_link: 5, 1"
      ]
     },
     "execution_count": 11,
     "metadata": {},
     "output_type": "execute_result"
    }
   ],
   "source": [
    "al[0:5, 2:3]"
   ]
  },
  {
   "cell_type": "code",
   "execution_count": 12,
   "metadata": {},
   "outputs": [
    {
     "name": "stdout",
     "output_type": "stream",
     "text": [
      "array: \n",
      "  1   1\n",
      "  0   1\n",
      "  1   0\n",
      "  0   0\n",
      "  1   1\n"
     ]
    }
   ],
   "source": [
    "al[0:5, 2:4].showarray()"
   ]
  },
  {
   "cell_type": "code",
   "execution_count": 14,
   "metadata": {},
   "outputs": [
    {
     "name": "stdout",
     "output_type": "stream",
     "text": [
      "1\n"
     ]
    }
   ],
   "source": [
    "print(al[0,2])"
   ]
  },
  {
   "cell_type": "markdown",
   "metadata": {
    "collapsed": true
   },
   "source": [
    "## Numpy"
   ]
  },
  {
   "cell_type": "markdown",
   "metadata": {},
   "source": [
    "We can convert between Numpy arrays and `array_link` objects. Note that an `array_link` is always integer valued, so any floating point in the Numpy array is rounded."
   ]
  },
  {
   "cell_type": "code",
   "execution_count": 15,
   "metadata": {},
   "outputs": [
    {
     "name": "stdout",
     "output_type": "stream",
     "text": [
      "1012300313\n",
      "1111210112\n",
      "0023300230\n",
      "0310132123\n",
      "3221231033\n",
      "3311010111\n",
      "0030023320\n",
      "1200030211\n",
      "2210012203\n",
      "2100010231\n",
      "0232301133\n",
      "1001220031\n",
      "2012310302\n",
      "0212123331\n",
      "1322322030\n",
      "2000011302\n",
      "3030112121\n",
      "2230203230\n",
      "0001332013\n",
      "1103223000\n"
     ]
    }
   ],
   "source": [
    "X=(4*np.random.rand( 20, 10)).astype(int)\n",
    "al=oapackage.array_link(X)\n",
    "al.showarraycompact()"
   ]
  },
  {
   "cell_type": "markdown",
   "metadata": {},
   "source": [
    "Convert from `array_link` back to Numpy array."
   ]
  },
  {
   "cell_type": "code",
   "execution_count": 16,
   "metadata": {},
   "outputs": [],
   "source": [
    "X2=np.array(al)"
   ]
  }
 ],
 "metadata": {
  "kernelspec": {
   "display_name": "Python 3",
   "language": "python",
   "name": "python3"
  },
  "language_info": {
   "codemirror_mode": {
    "name": "ipython",
    "version": 3
   },
   "file_extension": ".py",
   "mimetype": "text/x-python",
   "name": "python",
   "nbconvert_exporter": "python",
   "pygments_lexer": "ipython3",
   "version": "3.6.3"
  }
 },
 "nbformat": 4,
 "nbformat_minor": 1
}
