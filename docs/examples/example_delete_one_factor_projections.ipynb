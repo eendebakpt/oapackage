{
 "cells": [
  {
   "cell_type": "markdown",
   "metadata": {},
   "source": [
    "# Example code for delete-one-factor projections"
   ]
  },
  {
   "cell_type": "markdown",
   "metadata": {},
   "source": [
    "Any orthogonal array can be reduced to delete-one-factor projection form using `reduceDOPform`. The method is described in the article [A canonical form for non-regular arrays based on\n",
    "generalized wordlength pattern values of\n",
    "delete-one-factor projections](http://pietereendebak.nl/files/Eendebak2014-delete-one-factor.pdf) by Eendebak, P.T.\n",
    "Reduce an example array to its delete-one-factor projection form."
   ]
  },
  {
   "cell_type": "code",
   "execution_count": 1,
   "metadata": {
    "collapsed": false
   },
   "outputs": [
    {
     "name": "stdout",
     "output_type": "stream",
     "text": [
      "array: \n",
      "  0   0   0   0   0   0   0\n",
      "  0   0   0   0   0   0   1\n",
      "  0   0   0   1   1   1   0\n",
      "  0   0   0   1   1   1   1\n",
      "  0   1   1   0   0   1   0\n",
      "  0   1   1   0   0   1   1\n",
      "  0   1   1   1   1   0   0\n",
      "  0   1   1   1   1   0   1\n",
      "  1   0   1   0   1   0   0\n",
      "  1   0   1   0   1   1   1\n",
      "  1   0   1   1   0   0   0\n",
      "  1   0   1   1   0   1   1\n",
      "  1   1   0   0   1   0   1\n",
      "  1   1   0   0   1   1   0\n",
      "  1   1   0   1   0   0   1\n",
      "  1   1   0   1   0   1   0\n"
     ]
    }
   ],
   "source": [
    "import oapackage\n",
    "al=oapackage.exampleArray(4)\n",
    "al=oapackage.reduceDOPform(al)\n",
    "al.showarray()"
   ]
  },
  {
   "cell_type": "markdown",
   "metadata": {},
   "source": [
    "A key property of the delete-of-factor projection form is that the generalized word length patterns (GWLPs) of the projections are ordered."
   ]
  },
  {
   "cell_type": "code",
   "execution_count": 2,
   "metadata": {
    "collapsed": false
   },
   "outputs": [
    {
     "name": "stdout",
     "output_type": "stream",
     "text": [
      "GWLP (1.0, 0.0, 0.0, 3.5, 2.5, 0.5, 0.5, 0.0)\n",
      "Delete column 0: GWLP (1.0, 0.0, 0.0, 1.5, 1.0, 0.5, 0.0)\n",
      "Delete column 1: GWLP (1.0, 0.0, 0.0, 1.75, 0.75, 0.25, 0.25)\n",
      "Delete column 2: GWLP (1.0, 0.0, 0.0, 1.75, 0.75, 0.25, 0.25)\n",
      "Delete column 3: GWLP (1.0, 0.0, 0.0, 2.0, 1.0, 0.0, 0.0)\n",
      "Delete column 4: GWLP (1.0, 0.0, 0.0, 2.0, 1.0, 0.0, 0.0)\n",
      "Delete column 5: GWLP (1.0, 0.0, 0.0, 2.0, 1.0, 0.0, 0.0)\n",
      "Delete column 6: GWLP (1.0, 0.0, 0.0, 3.0, 2.0, 0.0, 0.0)\n"
     ]
    }
   ],
   "source": [
    "print('GWLP %s' %  str(al.GWLP()) ) \n",
    "for ii in range(0, al.n_columns):\n",
    "     bl=al.deleteColumn(ii)\n",
    "     print('Delete column %d: GWLP %s' % (ii, str(bl.GWLP()) ) )"
   ]
  },  {
   "cell_type": "markdown",
   "metadata": {},
   "source": [
    "SOME EXPLANATION."
   ]
  },
  {
   "cell_type": "code",
   "execution_count": 4,
   "metadata": {
    "collapsed": false
   },
   "outputs": [
    {
     "name": "stdout",
     "output_type": "stream",
     "text": [
      "symmetry group: 7 elements, 4 subgroups: 1 2 3 1 \n"
     ]
    }
   ],
   "source": [
    "dopgwp = oapackage.projectionGWLPvalues ( al )\n",
    "sg=oapackage.symmetry_group(list(dopgwp), False, 0)\n",
    "sg.show(1)"
   ]
  },
  {
   "cell_type": "markdown",
   "metadata": {},
   "source": [
    "It is also possible to reduce mixed-level arrays to their delete-of-factor projection forms."
   ]
  },
  {
   "cell_type": "code",
   "execution_count": 5,
   "metadata": {
    "collapsed": false
   },
   "outputs": [
    {
     "name": "stdout",
     "output_type": "stream",
     "text": [
      "array: \n",
      "  0   0   0   0   0\n",
      "  0   0   0   0   0\n",
      "  0   1   0   0   0\n",
      "  0   1   1   1   1\n",
      "  0   2   1   1   1\n",
      "  0   2   1   1   1\n",
      "  1   0   0   1   1\n",
      "  1   0   0   1   1\n",
      "  1   1   0   0   1\n",
      "  1   1   1   1   0\n",
      "  1   2   1   0   0\n",
      "  1   2   1   0   0\n",
      "  2   0   1   0   1\n",
      "  2   0   1   0   1\n",
      "  2   1   0   1   0\n",
      "  2   1   1   0   1\n",
      "  2   2   0   1   0\n",
      "  2   2   0   1   0\n",
      "  3   0   1   1   0\n",
      "  3   0   1   1   0\n",
      "  3   1   0   1   1\n",
      "  3   1   1   0   0\n",
      "  3   2   0   0   1\n",
      "  3   2   0   0   1\n",
      "GWLP (1.0, 0.0, 0.0, 4.111111111111111, 1.5555555555555556, 0.0)\n",
      "delete-one-factor GWLP values (0.0006666666666666666, 0.021111111111111112, 0.019333333333333334, 0.023333333333333334, 0.019333333333333334)\n"
     ]
    }
   ],
   "source": [
    "al=oapackage.exampleArray(5)\n",
    "al.showarray()\n",
    "print('GWLP %s' %  str(al.GWLP()) )\n",
    "dopgwp = oapackage.projectionGWLPvalues ( al )\n",
    "print('delete-one-factor GWLP values %s' % (dopgwp,) )"
   ]
  },
  {
   "cell_type": "code",
   "execution_count": 29,
   "metadata": {
    "collapsed": false
   },
   "outputs": [],
   "source": [
    "s=oapackage.projectionGWLPs(al)"
   ]
  }
 ],
 "metadata": {
  "kernelspec": {
   "display_name": "Python 3",
   "language": "python",
   "name": "python3"
  },
  "language_info": {
   "codemirror_mode": {
    "name": "ipython",
    "version": 3
   },
   "file_extension": ".py",
   "mimetype": "text/x-python",
   "name": "python",
   "nbconvert_exporter": "python",
   "pygments_lexer": "ipython3",
   "version": "3.5.2"
  }
 },
 "nbformat": 4,
 "nbformat_minor": 0
}
