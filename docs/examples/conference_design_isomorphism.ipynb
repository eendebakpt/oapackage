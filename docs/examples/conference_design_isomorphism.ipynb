{
 "cells": [
  {
   "cell_type": "markdown",
   "metadata": {},
   "source": [
    "# Isomorphism reduction for conference designs"
   ]
  },
  {
   "cell_type": "markdown",
   "metadata": {},
   "source": [
    "We define two designs in $C(10, 3)$ and calculate a reduction to normal form. Using the reduction, we determine if the two designs are isomorphic."
   ]
  },
  {
   "cell_type": "code",
   "execution_count": 1,
   "metadata": {},
   "outputs": [
    {
     "name": "stdout",
     "output_type": "stream",
     "text": [
      "array: \n",
      "  0   1   1\n",
      "  1   0   1\n",
      "  1   1   0\n",
      "  1   1   1\n",
      "  1   1  -1\n",
      "  1   1  -1\n",
      "  1  -1   1\n",
      "  1  -1   1\n",
      "  1  -1  -1\n",
      "  1  -1  -1\n",
      "array: \n",
      "  0   1   1\n",
      "  1   0  -1\n",
      "  1   1   1\n",
      "  1   1   1\n",
      "  1   1  -1\n",
      "  1   1  -1\n",
      "  1  -1   0\n",
      "  1  -1   1\n",
      "  1  -1   1\n",
      "  1  -1  -1\n"
     ]
    }
   ],
   "source": [
    "import oapackage\n",
    "import numpy as np\n",
    "\n",
    "A=np.array([0,1,1, 1,0,1, 1,1,0, 1,1,1, 1,1,-1, 1,1,-1, 1,-1,1, 1,-1,1, 1,-1,-1, 1,-1,-1]).reshape(10,3)\n",
    "B=np.array([0,1,1, 1,0,-1, 1,1,1, 1,1,1, 1,1,-1, 1,1,-1, 1,-1,0, 1,-1,1, 1,-1,1, 1,-1,-1]).reshape(10,3)\n",
    "al1=oapackage.makearraylink( A )\n",
    "al2=oapackage.makearraylink( B )\n",
    "\n",
    "al1.showarray()\n",
    "al2.showarray()"
   ]
  },
  {
   "cell_type": "markdown",
   "metadata": {},
   "source": [
    "We calculate normal forms for conference designs using the function `reduceConference` or `reduceConferenceTransformation`. The result of the former is the reduced design, the result of the latter is an object describing the tranformation to normal form. The normal form is calculated using Nauty."
   ]
  },
  {
   "cell_type": "code",
   "execution_count": 2,
   "metadata": {},
   "outputs": [
    {
     "name": "stdout",
     "output_type": "stream",
     "text": [
      "Help on function reduceConference in module oalib:\n",
      "\n",
      "reduceConference(arg1, verbose=0)\n",
      "    reduceConference(array_link arg1, int verbose=0) -> array_link\n",
      "    reduceConference(array_link arg1) -> array_link\n",
      "    \n",
      "    \n",
      "    \n",
      "    reduce conference matrix to normal form\n",
      "\n"
     ]
    }
   ],
   "source": [
    "help(oapackage.reduceConference)"
   ]
  },
  {
   "cell_type": "code",
   "execution_count": 3,
   "metadata": {},
   "outputs": [
    {
     "name": "stdout",
     "output_type": "stream",
     "text": [
      "reduceConferenceTransformation: reduce design with 10 rows, 3 columns\n",
      "reduceConferenceTransformation: reduce design with 10 rows, 3 columns\n",
      "row permutation: {2,0,1,9,7,8,5,6,3,4}\n",
      "  row flips: {1,1,-1,1,1,1,1,1,1,1}\n",
      "column permutation: {0,1,2}\n",
      "  col flips: {1,-1,-1}\n"
     ]
    }
   ],
   "source": [
    "T1=oapackage.reduceConferenceTransformation(al1, verbose=1)\n",
    "T2=oapackage.reduceConferenceTransformation(al2, verbose=1)\n",
    "T1.show()"
   ]
  },
  {
   "cell_type": "markdown",
   "metadata": {},
   "source": [
    "We can check whether the designs are isomorphic by comparing the normal forms."
   ]
  },
  {
   "cell_type": "code",
   "execution_count": 4,
   "metadata": {},
   "outputs": [
    {
     "name": "stdout",
     "output_type": "stream",
     "text": [
      "designs isomorphic? 1\n"
     ]
    }
   ],
   "source": [
    "i = T1.apply(al1)==T2.apply(al2)\n",
    "print('designs isomorphic? %s' % i)"
   ]
  },
  {
   "cell_type": "markdown",
   "metadata": {},
   "source": [
    "The designs are isomorphic. Then, it is possible to calculate a reduction of the second design into the first design."
   ]
  },
  {
   "cell_type": "code",
   "execution_count": 5,
   "metadata": {},
   "outputs": [
    {
     "name": "stdout",
     "output_type": "stream",
     "text": [
      "row permutation: {0,1,8,9,6,7,2,4,5,3}\n",
      "  row flips: {-1,1,1,1,1,1,1,1,1,1}\n",
      "column permutation: {0,1,2}\n",
      "  col flips: {1,-1,-1}\n"
     ]
    }
   ],
   "source": [
    "TT=T1.inverse() * T2\n",
    "TT.show()"
   ]
  },
  {
   "cell_type": "code",
   "execution_count": 6,
   "metadata": {},
   "outputs": [
    {
     "name": "stdout",
     "output_type": "stream",
     "text": [
      "array: \n",
      "  1   0  -1\n",
      "  1  -1   0\n",
      "  0   1   1\n",
      "  1   1   1\n",
      "  1   1   1\n",
      "  1   1  -1\n",
      "  1   1  -1\n",
      "  1  -1   1\n",
      "  1  -1   1\n",
      "  1  -1  -1\n",
      "array: \n",
      "  1   0  -1\n",
      "  1  -1   0\n",
      "  0   1   1\n",
      "  1   1   1\n",
      "  1   1   1\n",
      "  1   1  -1\n",
      "  1   1  -1\n",
      "  1  -1   1\n",
      "  1  -1   1\n",
      "  1  -1  -1\n"
     ]
    }
   ],
   "source": [
    "r1=T1.apply(al1)\n",
    "r1.showarray()\n",
    "r2=T2.apply(al2)\n",
    "r2.showarray()"
   ]
  },
  {
   "cell_type": "markdown",
   "metadata": {},
   "source": [
    "Check some properties of a conference design."
   ]
  },
  {
   "cell_type": "code",
   "execution_count": 7,
   "metadata": {},
   "outputs": [
    {
     "name": "stdout",
     "output_type": "stream",
     "text": [
      "al1: is_conference 1\n",
      "array 1: J2-characteristics (0, 0, 0)\n"
     ]
    }
   ],
   "source": [
    "print('al1: is_conference() %d'  % al1.is_conference() )\n",
    "print('array 1: J2-characteristics %s'  % (oapackage.Jcharacteristics_conference(al1, jj=2), ) )"
   ]
  },
  {
   "cell_type": "code",
   "execution_count": 8,
   "metadata": {},
   "outputs": [
    {
     "name": "stdout",
     "output_type": "stream",
     "text": [
      "Help on function Jcharacteristics_conference in module oalib:\n",
      "\n",
      "Jcharacteristics_conference(al, jj, verbose=0)\n",
      "    Jcharacteristics_conference(array_link al, int jj, int verbose=0) -> intVector\n",
      "    Jcharacteristics_conference(array_link al, int jj) -> intVector\n",
      "\n"
     ]
    }
   ],
   "source": [
    "help(oapackage.Jcharacteristics_conference)"
   ]
  }
 ],
 "metadata": {
  "kernelspec": {
   "display_name": "Python 3",
   "language": "python",
   "name": "python3"
  },
  "language_info": {
   "codemirror_mode": {
    "name": "ipython",
    "version": 3
   },
   "file_extension": ".py",
   "mimetype": "text/x-python",
   "name": "python",
   "nbconvert_exporter": "python",
   "pygments_lexer": "ipython3",
   "version": "3.6.3"
  }
 },
 "nbformat": 4,
 "nbformat_minor": 1
}
