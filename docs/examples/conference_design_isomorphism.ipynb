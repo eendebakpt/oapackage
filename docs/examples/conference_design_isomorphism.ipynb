{
 "cells": [
  {
   "cell_type": "markdown",
   "metadata": {},
   "source": [
    "# Isomorphism reduction for conference designs"
   ]
  },
  {
   "cell_type": "markdown",
   "metadata": {},
   "source": [
    "In this example, we show how to test if two conference designs are isomorphic. We consider conference designs with 10 runs and 3 factors, and calculate a reduction to their normal form. Using the reduction, we determine if the two designs are isomorphic."
   ]
  },
  {
   "cell_type": "code",
   "execution_count": 1,
   "metadata": {},
   "outputs": [
    {
     "name": "stdout",
     "output_type": "stream",
     "text": [
      "array:\n",
      "  0   1   1\n",
      "  1   0   1\n",
      "  1   1   0\n",
      "  1   1   1\n",
      "  1   1  -1\n",
      "  1   1  -1\n",
      "  1  -1   1\n",
      "  1  -1   1\n",
      "  1  -1  -1\n",
      "  1  -1  -1\n",
      "array:\n",
      "  0   1   1\n",
      "  1   0  -1\n",
      "  1   1   1\n",
      "  1   1   1\n",
      "  1   1  -1\n",
      "  1   1  -1\n",
      "  1  -1   0\n",
      "  1  -1   1\n",
      "  1  -1   1\n",
      "  1  -1  -1\n"
     ]
    }
   ],
   "source": [
    "import oapackage\n",
    "import numpy as np\n",
    "\n",
    "A = np.array(\n",
    "    [0, 1, 1, 1, 0, 1, 1, 1, 0, 1, 1, 1, 1, 1, -1, 1, 1, -1, 1, -1, 1, 1, -1, 1, 1, -1, -1, 1, -1, -1]\n",
    ").reshape(10, 3)\n",
    "B = np.array(\n",
    "    [0, 1, 1, 1, 0, -1, 1, 1, 1, 1, 1, 1, 1, 1, -1, 1, 1, -1, 1, -1, 0, 1, -1, 1, 1, -1, 1, 1, -1, -1]\n",
    ").reshape(10, 3)\n",
    "array1 = oapackage.makearraylink(A)\n",
    "array2 = oapackage.makearraylink(B)\n",
    "\n",
    "array1.showarray()\n",
    "array2.showarray()"
   ]
  },
  {
   "cell_type": "markdown",
   "metadata": {},
   "source": [
    "We calculate the normal forms of the conference designs using the function `reduceConference` or `reduceConferenceTransformation`. The result of the former is the reduced design, while the result of the latter is an object describing the tranformation to normal form. The normal form is calculated using Nauty."
   ]
  },
  {
   "cell_type": "code",
   "execution_count": 2,
   "metadata": {},
   "outputs": [
    {
     "name": "stdout",
     "output_type": "stream",
     "text": [
      "Help on function reduceConference in module oalib:\n",
      "\n",
      "reduceConference(arg1, verbose=0)\n",
      "    reduceConference(array_link arg1, int verbose=0) -> array_link\n",
      "    reduceConference(array_link arg1) -> array_link\n",
      "    \n",
      "    \n",
      "    \n",
      "    Reduce conference matrix to normal form using Nauty  \n",
      "    \n",
      "    See also: reduceConferenceTransformation\n",
      "\n"
     ]
    }
   ],
   "source": [
    "help(oapackage.reduceConference)"
   ]
  },
  {
   "cell_type": "code",
   "execution_count": 3,
   "metadata": {},
   "outputs": [
    {
     "name": "stdout",
     "output_type": "stream",
     "text": [
      "reduceConferenceTransformation: reduce design with 10 rows, 3 columns\n",
      "reduceConferenceTransformation: reduce design with 10 rows, 3 columns\n",
      "row permutation: {2,0,1,9,7,8,5,6,3,4}\n",
      "  row flips: {1,1,-1,1,1,1,1,1,1,1}\n",
      "column permutation: {0,1,2}\n",
      "  col flips: {1,-1,-1}\n"
     ]
    }
   ],
   "source": [
    "T1 = oapackage.reduceConferenceTransformation(array1, verbose=1)\n",
    "T2 = oapackage.reduceConferenceTransformation(array2, verbose=1)\n",
    "T1.show()"
   ]
  },
  {
   "cell_type": "markdown",
   "metadata": {},
   "source": [
    "We can check whether the designs are isomorphic by comparing the normal forms."
   ]
  },
  {
   "cell_type": "code",
   "execution_count": 4,
   "metadata": {},
   "outputs": [
    {
     "name": "stdout",
     "output_type": "stream",
     "text": [
      "designs isomorphic? 1\n"
     ]
    }
   ],
   "source": [
    "design_equal = T1.apply(array1) == T2.apply(array2)\n",
    "print(\"designs isomorphic? %s\" % design_equal)"
   ]
  },
  {
   "cell_type": "markdown",
   "metadata": {},
   "source": [
    "The designs are isomorphic. So, it is possible to calculate a reduction of the second design into the first design."
   ]
  },
  {
   "cell_type": "code",
   "execution_count": 5,
   "metadata": {},
   "outputs": [
    {
     "name": "stdout",
     "output_type": "stream",
     "text": [
      "row permutation: {0,1,8,9,6,7,2,4,5,3}\n",
      "  row flips: {-1,1,1,1,1,1,1,1,1,1}\n",
      "column permutation: {0,1,2}\n",
      "  col flips: {1,-1,-1}\n"
     ]
    }
   ],
   "source": [
    "TT = T1.inverse() * T2\n",
    "TT.show()"
   ]
  },
  {
   "cell_type": "code",
   "execution_count": 6,
   "metadata": {},
   "outputs": [
    {
     "name": "stdout",
     "output_type": "stream",
     "text": [
      "array:\n",
      "  1   0  -1\n",
      "  1  -1   0\n",
      "  0   1   1\n",
      "  1   1   1\n",
      "  1   1   1\n",
      "  1   1  -1\n",
      "  1   1  -1\n",
      "  1  -1   1\n",
      "  1  -1   1\n",
      "  1  -1  -1\n",
      "array:\n",
      "  1   0  -1\n",
      "  1  -1   0\n",
      "  0   1   1\n",
      "  1   1   1\n",
      "  1   1   1\n",
      "  1   1  -1\n",
      "  1   1  -1\n",
      "  1  -1   1\n",
      "  1  -1   1\n",
      "  1  -1  -1\n"
     ]
    }
   ],
   "source": [
    "r1 = T1.apply(array1)\n",
    "r1.showarray()\n",
    "r2 = T2.apply(array2)\n",
    "r2.showarray()"
   ]
  },
  {
   "cell_type": "markdown",
   "metadata": {},
   "source": [
    "Calculate some properties of a conference design; see the section [Properties of conference designs](https://oapackage.readthedocs.io/en/latest/properties.html#properties-of-conference-designs) for details."
   ]
  },
  {
   "cell_type": "code",
   "execution_count": 7,
   "metadata": {},
   "outputs": [
    {
     "name": "stdout",
     "output_type": "stream",
     "text": [
      "array 1: is_conference() 1\n",
      "array 1: J2-characteristics (0, 0, 0)\n"
     ]
    }
   ],
   "source": [
    "print(\"array 1: is_conference() %d\" % array1.is_conference())\n",
    "print(\"array 1: J2-characteristics %s\" % (oapackage.Jcharacteristics_conference(array1, number_of_columns=2),))"
   ]
  },
  {
   "cell_type": "code",
   "execution_count": 8,
   "metadata": {},
   "outputs": [
    {
     "name": "stdout",
     "output_type": "stream",
     "text": [
      "Help on function Jcharacteristics_conference in module oalib:\n",
      "\n",
      "Jcharacteristics_conference(array, number_of_columns, verbose=0)\n",
      "    Jcharacteristics_conference(array_link array, int number_of_columns, int verbose=0) -> intVector\n",
      "    Jcharacteristics_conference(array_link array, int number_of_columns) -> intVector\n",
      "\n"
     ]
    }
   ],
   "source": [
    "help(oapackage.Jcharacteristics_conference)"
   ]
  }
 ],
 "metadata": {
  "kernelspec": {
   "display_name": "Python 3",
   "language": "python",
   "name": "python3"
  },
  "language_info": {
   "codemirror_mode": {
    "name": "ipython",
    "version": 3
   },
   "file_extension": ".py",
   "mimetype": "text/x-python",
   "name": "python",
   "nbconvert_exporter": "python",
   "pygments_lexer": "ipython3",
   "version": "3.8.6"
  }
 },
 "nbformat": 4,
 "nbformat_minor": 4
}
