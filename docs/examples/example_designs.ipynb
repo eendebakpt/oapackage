{
 "cells": [
  {
   "cell_type": "markdown",
   "metadata": {},
   "source": [
    "# Example arrays"
   ]
  },
  {
   "cell_type": "markdown",
   "metadata": {},
   "source": [
    "The package contains a number of example arrays."
   ]
  },
  {
   "cell_type": "code",
   "execution_count": 8,
   "metadata": {
    "collapsed": false
   },
   "outputs": [
    {
     "name": "stdout",
     "output_type": "stream",
     "text": [
      "index 0: exampleArray: array in OA(8,2, 2^2)\n",
      "index 1: exampleArray: array 3 in OA(16, 2, 2^5)\n",
      "index 2: exampleArray: array 6 in OA(16, 2, 2^6)\n",
      "index 3: exampleArray: array ? in OA(32, 3, 2^7)\n",
      "index 4: exampleArray: array 4 in OA(16, 2, 2^7)\n",
      "index 5: exampleArray: array 0 in OA(24, 2, 4 3 2^a)\n",
      "index 6: exampleArray: array in OA(4, 2, 2^a)\n",
      "index 7: exampleArray: array 0 in OA(4, 2, 2^a)?\n",
      "index 8: exampleArray: array in OA(40, 3, 2^7)\n",
      "index 9: exampleArray: array in OA(40, 2^7), D-optimal\n",
      "index 10: exampleArray: array in OA(9, 3^2)\n",
      "index 11: exampleArray: D-optimal array in OA(44, 2^8)\n",
      "index 12: exampleArray: even-odd array OA(64, 2^13)\n",
      "index 13: exampleArray: array in OA(25, 2^5)\n",
      "index 14: exampleArray: design in D(28, 2^5), D-efficiency is low\n",
      "index 15: exampleArray: design in D(56, 2^10), D-efficiency is low\n",
      "index 16: exampleArray: array in OA(32, 2, 2^5)\n",
      "index 17: exampleArray: unique array in OA(64, 4, 2^7)\n",
      "index 18: exampleArray: conference matrix of size 16, 7\n",
      "index 19: exampleArray: conference matrix of size 4, 3\n",
      "index 20: exampleArray: first LMC-0 double conference matrix in DC(24,3)\n",
      "index 21: exampleArray: second LMC-0 double conference matrix in DC(16,4)\n",
      "index 22: exampleArray: LMC-0 double conference matrix in DC(32,4)\n",
      "index 23: exampleArray: LMC-0 double conference matrix in DC(32,6)\n",
      "index 24: exampleArray: design in OA(64, 3, 2^16) (even-odd)\n",
      "index 25: exampleArray: design in OA(64, 3, 2^16) (even-odd)\n",
      "index 26: exampleArray: design in OA(64, 3, 2^16) (even-odd)\n",
      "index 27: exampleArray: design in OA(64, 3, 2^16) (even-odd)\n",
      "index 28: exampleArray: conference design in C(4, 3) in LMC0 form\n",
      "index 29: exampleArray: conference design in C(4, 3)\n",
      "index 30: exampleArray: conference design in C(8,4)\n",
      "index 31: exampleArray: conference design in C(8,4)\n",
      "index 32: exampleArray: first double conference design in DC(18,4)\n",
      "index 33: exampleArray: second double conference design in DC(18,4)\n",
      "index 34: exampleArray: third double conference design in DC(18,4)\n",
      "index 35: exampleArray: first double conference design in DC(20,4)\n",
      "index 36: exampleArray: second double conference design in DC(20,4)\n",
      "index 37: exampleArray: third double conference design in DC(20,4)\n",
      "index 38: exampleArray: LMC0 conference design in C(30,3)\n",
      "index 39: exampleArray: first LMC0 conference design in C(8,6)\n",
      "index 40: exampleArray: first conference design in C(14, 5)\n",
      "index 41: exampleArray: second conference design in C(14, 5)\n",
      "index 42: exampleArray: third conference design in C(14, 5)\n",
      "index 43: exampleArray: no such index 43\n"
     ]
    }
   ],
   "source": [
    "import oapackage\n",
    "for ii in range(50):\n",
    "    print('index %d: ' % ii, end='')\n",
    "    al = oapackage.exampleArray(ii, 1)\n",
    "    if al.n_columns==0:\n",
    "        break"
   ]
  },{
   "cell_type": "markdown",
   "metadata": {},
   "source": [
    "Select an example array and show it."
   ]
  },
  {
   "cell_type": "code",
   "execution_count": 9,
   "metadata": {
    "collapsed": false
   },
   "outputs": [
    {
     "name": "stdout",
     "output_type": "stream",
     "text": [
      "array: \n",
      "  0   0   0   0   0\n",
      "  0   0   0   0   0\n",
      "  0   0   0   0   1\n",
      "  0   0   0   1   0\n",
      "  0   0   0   1   1\n",
      "  0   0   1   0   0\n",
      "  0   0   1   0   1\n",
      "  0   0   1   1   0\n",
      "  0   1   0   0   1\n",
      "  0   1   0   1   0\n",
      "  0   1   0   1   1\n",
      "  0   1   1   0   0\n",
      "  0   1   1   0   1\n",
      "  0   1   1   1   0\n",
      "  0   1   1   1   1\n",
      "  0   1   1   1   1\n",
      "  1   0   0   0   1\n",
      "  1   0   0   1   0\n",
      "  1   0   0   1   1\n",
      "  1   0   1   0   0\n",
      "  1   0   1   0   1\n",
      "  1   0   1   1   0\n",
      "  1   0   1   1   1\n",
      "  1   0   1   1   1\n",
      "  1   1   0   0   0\n",
      "  1   1   0   0   0\n",
      "  1   1   0   0   1\n",
      "  1   1   0   1   0\n",
      "  1   1   0   1   1\n",
      "  1   1   1   0   0\n",
      "  1   1   1   0   1\n",
      "  1   1   1   1   0\n"
     ]
    }
   ],
   "source": [
    "al=oapackage.exampleArray(16)\n",
    "al.showarray()"
   ]
  }
 ],
 "metadata": {
  "kernelspec": {
   "display_name": "Python 3",
   "language": "python",
   "name": "python3"
  },
  "language_info": {
   "codemirror_mode": {
    "name": "ipython",
    "version": 3
   },
   "file_extension": ".py",
   "mimetype": "text/x-python",
   "name": "python",
   "nbconvert_exporter": "python",
   "pygments_lexer": "ipython3",
   "version": "3.5.2"
  }
 },
 "nbformat": 4,
 "nbformat_minor": 0
}
