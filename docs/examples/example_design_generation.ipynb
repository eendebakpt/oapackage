{
 "cells": [
  {
   "cell_type": "markdown",
   "metadata": {},
   "source": [
    "# Example for generation of orthogonal arrays"
   ]
  },
  {
   "cell_type": "code",
   "execution_count": 3,
   "metadata": {
    "collapsed": true
   },
   "outputs": [],
   "source": [
    "import oapackage"
   ]
  },
  {
   "cell_type": "markdown",
   "metadata": {},
   "source": [
    "First we specify the class we want to generate"
   ]
  },
  {
   "cell_type": "code",
   "execution_count": 23,
   "metadata": {},
   "outputs": [
    {
     "name": "stdout",
     "output_type": "stream",
     "text": [
      "arrayclass: N 27, k 8, strength 2, s {3,3,3,3,3,3,3,3}, order 0\n"
     ]
    }
   ],
   "source": [
    "arrayclass=oapackage.arraydata_t(3, 27, 2, 8)\n",
    "print(arrayclass)"
   ]
  },
  {
   "cell_type": "markdown",
   "metadata": {},
   "source": [
    "We start with the root design."
   ]
  },
  {
   "cell_type": "code",
   "execution_count": 24,
   "metadata": {},
   "outputs": [
    {
     "name": "stdout",
     "output_type": "stream",
     "text": [
      "00\n",
      "00\n",
      "00\n",
      "01\n",
      "01\n",
      "01\n",
      "02\n",
      "02\n",
      "02\n",
      "10\n",
      "10\n",
      "10\n",
      "11\n",
      "11\n",
      "11\n",
      "12\n",
      "12\n",
      "12\n",
      "20\n",
      "20\n",
      "20\n",
      "21\n",
      "21\n",
      "21\n",
      "22\n",
      "22\n",
      "22\n"
     ]
    }
   ],
   "source": [
    "ll2=[arrayclass.create_root()]\n",
    "ll2[0].showarraycompact()"
   ]
  },
  {
   "cell_type": "code",
   "execution_count": 28,
   "metadata": {},
   "outputs": [
    {
     "name": "stdout",
     "output_type": "stream",
     "text": [
      "exteded to 9 arrays with 3 columns\n",
      "exteded to 711 arrays with 4 columns\n"
     ]
    }
   ],
   "source": [
    "ll3=oapackage.extend_arraylist(ll2, arrayclass)\n",
    "print('exteded to %d arrays with 3 columns' % len(ll3))\n",
    "ll4=oapackage.extend_arraylist(ll3, arrayclass)\n",
    "print('exteded to %d arrays with 4 columns' % len(ll4))"
   ]
  },
  {
   "cell_type": "code",
   "execution_count": 33,
   "metadata": {},
   "outputs": [
    {
     "name": "stdout",
     "output_type": "stream",
     "text": [
      "exteded first 2 arrays to 189 arrays with 4 columns\n"
     ]
    }
   ],
   "source": [
    "ll=oapackage.extend_arraylist(ll4[0:8], arrayclass)\n",
    "print('exteded first 2 arrays to %d arrays with 4 columns' % len(ll))"
   ]
  },
  {
   "cell_type": "markdown",
   "metadata": {},
   "source": [
    "## Notes"
   ]
  },
  {
   "cell_type": "markdown",
   "metadata": {},
   "source": [
    "* The numbers of isomorphism classes for various types of designs can be found at the webpage <a href=\"http://www.pietereendebak.nl/oapackage/series.html\">series of orthognal arrays</a>.\n",
    "* For larger number of designs the command line tools are more convient (and more memory efficient)."
   ]
  },
  {
   "cell_type": "code",
   "execution_count": null,
   "metadata": {
    "collapsed": true
   },
   "outputs": [],
   "source": []
  }
 ],
 "metadata": {
  "kernelspec": {
   "display_name": "Python 3",
   "language": "python",
   "name": "python3"
  },
  "language_info": {
   "codemirror_mode": {
    "name": "ipython",
    "version": 3
   },
   "file_extension": ".py",
   "mimetype": "text/x-python",
   "name": "python",
   "nbconvert_exporter": "python",
   "pygments_lexer": "ipython3",
   "version": "3.6.3"
  }
 },
 "nbformat": 4,
 "nbformat_minor": 2
}
