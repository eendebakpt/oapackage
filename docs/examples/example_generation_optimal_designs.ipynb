{
 "cells": [
  {
   "cell_type": "markdown",
   "metadata": {},
   "source": [
    "# Generate D-optimal designs"
   ]
  },
  {
   "cell_type": "markdown",
   "metadata": {},
   "source": [
    "This notebook contains example code from the article [Two-level designs to estimate all main effects and two-factor interactions](https://doi.org/10.1080/00401706.2016.1142903). by Eendebak, P.T and Schoen, E.D.\n",
    "This example shows how to generate optimal designs with a user-specified optimization function."
   ]
  },{
   "cell_type": "code",
   "execution_count": 1,
   "metadata": {
    "collapsed": false
   },
   "outputs": [],
   "source": [
    "import numpy as np\n",
    "import oapackage"
   ]
  },{
   "cell_type": "markdown",
   "metadata": {},
   "source": [
    "Define the class of arrays to generate."
   ]
  },
  {
   "cell_type": "code",
   "execution_count": 1,
   "metadata": {},
   "outputs": [
    {
     "name": "stdout",
     "output_type": "stream",
     "text": [
      "We generate optimal designs with 40 rows and 7 columns\n",
      "\n"
     ]
    }
   ],
   "source": [
    "N=40 # Run size\n", 
    "k=7 # Number of factors\n",
    "s=2 # Number of factor levels\n",
    "strength=2 # Strength of the design\n", 
    "arrayclass=oapackage.arraydata_t(s, N, strength, k)\n",
    "print('We generate optimal designs with %d rows and %d columns\\n' % (N, k) )"
   ]
  },
  {
   "cell_type": "markdown",
   "metadata": {},
   "source": [
    "Generate a single D-optimal design using $\\alpha=(1,2,0)$ as the parameters for the optimization function."
   ]
  },
  {
   "cell_type": "code",
   "execution_count": 2,
   "metadata": {},
   "outputs": [
    {
     "name": "stdout",
     "output_type": "stream",
     "text": [
      "Doptim: optimization class 40.2-2-2-2-2-2-2\n",
      "Doptimize: iteration 0/40\n",
      "Doptimize: iteration 39/40\n",
      "Doptim: done (12 arrays, 1.8 [s])\n"
     ]
    }
   ],
   "source": [
    "alpha=[1,2,0]\n",
    "scores, dds, designs, ngenerated = oapackage.Doptimize(arrayclass, nrestarts=40, optimfunc=alpha, selectpareto=True)"
   ]
  },
  {
   "cell_type": "code",
   "execution_count": 3,
   "metadata": {},
   "outputs": [
    {
     "name": "stdout",
     "output_type": "stream",
     "text": [
      "\n",
      "Generated 12 designs, the efficiencies for these designs are:\n",
      "array 0: D-efficiency 0.8815, Ds-efficiency 0.9807\n",
      "array 1: D-efficiency 0.8670, Ds-efficiency 0.9827\n",
      "array 2: D-efficiency 0.8945, Ds-efficiency 0.9669\n",
      "array 3: D-efficiency 0.8957, Ds-efficiency 0.9617\n",
      "array 4: D-efficiency 0.8981, Ds-efficiency 0.9587\n",
      "array 5: D-efficiency 0.9027, Ds-efficiency 0.9540\n",
      "array 6: D-efficiency 0.8857, Ds-efficiency 0.9600\n",
      "array 7: D-efficiency 0.9118, Ds-efficiency 0.9444\n",
      "array 8: D-efficiency 0.9036, Ds-efficiency 0.9400\n",
      "array 9: D-efficiency 0.8856, Ds-efficiency 0.9356\n",
      "array 10: D-efficiency 0.8914, Ds-efficiency 0.9290\n",
      "array 11: D-efficiency 0.9046, Ds-efficiency 0.9203\n",
      "\n",
      "The design with the highest D-efficiency (0.9118) is:\n",
      "\n",
      "1000000010111101010111001100000100111001\n",
      "1011000100100111111110101010101001010000\n",
      "1010110111100001111001000111100000100101\n",
      "1101100100010100111111110101110101000010\n",
      "0000110110001111011010110110010110110000\n",
      "1011101000010000011010111011100111110011\n",
      "0100101111111010010110010110100001010001\n"
     ]
    }
   ],
   "source": [
    "print('\\nGenerated %d designs, the efficiencies for these designs are:' % len(designs))\n",
    "for ii, d in enumerate(designs):\n",
    "    dd = d.Defficiencies()\n",
    "    print('array %d: D-efficiency %.4f, Ds-efficiency %.4f' % (ii, dd[0], dd[1]) )\n",
    "\n",
    "D=[d.Defficiency() for d in designs]\n",
    "best=np.argmax(D)\n",
    "print('\\nThe design with the highest D-efficiency (%.4f) is:\\n' % D[best] )\n",
    "\n",
    "designs[best].transposed().showarraycompact()"
   ]
  }
 ],
 "metadata": {
  "kernelspec": {
   "display_name": "Python 3",
   "language": "python",
   "name": "python3"
  },
  "language_info": {
   "codemirror_mode": {
    "name": "ipython",
    "version": 3
   },
   "file_extension": ".py",
   "mimetype": "text/x-python",
   "name": "python",
   "nbconvert_exporter": "python",
   "pygments_lexer": "ipython3",
   "version": "3.6.3"
  }
 },
 "nbformat": 4,
 "nbformat_minor": 1
}
