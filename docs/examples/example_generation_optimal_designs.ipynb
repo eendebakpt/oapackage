{
 "cells": [
  {
   "cell_type": "markdown",
   "metadata": {},
   "source": [
    "# Generate D-optimal designs"
   ]
  },
  {
   "cell_type": "markdown",
   "metadata": {},
   "source": [
    "This notebook contains example code from the article [Two-level designs to estimate all main effects and two-factor interactions](https://doi.org/10.1080/00401706.2016.1142903). by Eendebak, P.T and Schoen, E.D.\n",
    "This example shows how to generate optimal designs with a user-specified optimization function."
   ]
  },
  {
   "cell_type": "code",
   "execution_count": 3,
   "metadata": {
    "collapsed": false
   },
   "outputs": [],
   "source": [
    "import numpy as np\n",
    "import oapackage\n",
    "import oapackage.Doptim"
   ]
  },
  {
   "cell_type": "markdown",
   "metadata": {},
   "source": [
    "Define the class of arrays to generate."
   ]
  },
  {
   "cell_type": "code",
   "execution_count": 4,
   "metadata": {
    "collapsed": false
   },
   "outputs": [
    {
     "name": "stdout",
     "output_type": "stream",
     "text": [
      "We generate optimal designs with 40 rows and 7 columns\n",
      "\n"
     ]
    }
   ],
   "source": [
    "N=40 # Run size\n",
    "k=7 # Number of factors\n",
    "s=2 # Number of factor levels\n",
    "strength=2 # Strength of the design\n",
    "arrayclass=oapackage.arraydata_t(s, N, strength, k)\n",
    "print('We generate optimal designs with %d rows and %d columns\\n' % (N, k) )"
   ]
  },
  {
   "cell_type": "markdown",
   "metadata": {},
   "source": [
    "Generate a single D-optimal design using $\\alpha=(1,2,0)$ as the parameters for the optimization function."
   ]
  },
  {
   "cell_type": "code",
   "execution_count": 59,
   "metadata": {
    "collapsed": false
   },
   "outputs": [
    {
     "name": "stdout",
     "output_type": "stream",
     "text": [
      "Doptim: optimization class 40.2-2-2-2-2-2-2\n",
      "Doptimize: iteration 0/30\n",
      "Doptimize: iteration 29/30\n",
      "Doptim: done (9 arrays, 1.5 [s])\n"
     ]
    }
   ],
   "source": [
    "alpha=[1,2,0]\n",
    "scores, design_efficiencies, designs, ngenerated = oapackage.Doptimize(arrayclass, nrestarts=30, optimfunc=alpha, selectpareto=True)"
   ]
  },
  {
   "cell_type": "code",
   "execution_count": 35,
   "metadata": {
    "collapsed": false
   },
   "outputs": [
    {
     "name": "stdout",
     "output_type": "stream",
     "text": [
      "\n",
      "Generated 10 designs, the efficiencies for these designs are:\n",
      "array 0: D-efficiency 0.8875, Ds-efficiency 0.9884\n",
      "array 1: D-efficiency 0.9144, Ds-efficiency 0.9606\n",
      "array 2: D-efficiency 0.9076, Ds-efficiency 0.9628\n",
      "array 3: D-efficiency 0.9040, Ds-efficiency 0.9627\n",
      "array 4: D-efficiency 0.8829, Ds-efficiency 0.9631\n",
      "array 5: D-efficiency 0.9041, Ds-efficiency 0.9501\n",
      "array 6: D-efficiency 0.8921, Ds-efficiency 0.9518\n",
      "array 7: D-efficiency 0.8972, Ds-efficiency 0.9434\n",
      "array 8: D-efficiency 0.8941, Ds-efficiency 0.9435\n",
      "array 9: D-efficiency 0.8834, Ds-efficiency 0.9471\n",
      "\n",
      "The design with the highest D-efficiency (0.9144) is:\n",
      "\n",
      "0101010001111011100000000110110111101010\n",
      "0111011101100000110010100001011110011011\n",
      "0101011110101001000110111111011100001000\n",
      "0011111100100111110111010101010011000000\n",
      "1010000101111111101000011000001100111000\n",
      "0010110010010001101010010011011101001011\n",
      "0110001010110100000011011100010011111101\n"
     ]
    }
   ],
   "source": [
    "print('\\nGenerated %d designs, the efficiencies for these designs are:' % len(designs))\n",
    "for ii, d in enumerate(designs):\n",
    "    dd = d.Defficiencies()\n",
    "    print('array %d: D-efficiency %.4f, Ds-efficiency %.4f' % (ii, dd[0], dd[1]) )\n",
    "\n",
    "D=[d.Defficiency() for d in designs]\n",
    "best=np.argmax(D)\n",
    "print('\\nThe design with the highest D-efficiency (%.4f) is:\\n' % D[best] )\n",
    "\n",
    "designs[best].transposed().showarraycompact()"
   ]
  },
  {
   "cell_type": "markdown",
   "metadata": {},
   "source": [
    "Optimizing with a different optimization target leads to different D-optimal designs. Below we compare the sets of designs generated with\n",
    "optimization target [1,0,0] and [1,2,0]."
   ]
  },
  {
   "cell_type": "code",
   "execution_count": 61,
   "metadata": {
    "collapsed": false
   },
   "outputs": [
    {
     "name": "stdout",
     "output_type": "stream",
     "text": [
      "Doptim: optimization class 40.2-2-2-2-2-2-2\n",
      "Doptimize: iteration 0/30\n",
      "Doptimize: iteration 29/30\n",
      "Doptim: done (8 arrays, 1.6 [s])\n"
     ]
    }
   ],
   "source": [
    "scores0, design_efficiencies0, designs0, _ = oapackage.Doptimize(arrayclass, nrestarts=30, optimfunc=[1,0,0], selectpareto=True)"
   ]
  },
  {
   "cell_type": "code",
   "execution_count": 62,
   "metadata": {
    "collapsed": false
   },
   "outputs": [
    {
     "name": "stdout",
     "output_type": "stream",
     "text": [
      "Pareto: 16 optimal values, 17 objects\n"
     ]
    },
    {
     "data": {
      "image/png": "[encoded data removed]",
      "text/plain": [
       "<Figure size 432x288 with 1 Axes>"
      ]
     },
     "metadata": {},
     "output_type": "display_data"
    },
    {
     "data": {
      "text/plain": [
       "<Figure size 432x288 with 0 Axes>"
      ]
     },
     "metadata": {},
     "output_type": "display_data"
    }
   ],
   "source": [
    "def combineEfficiencyData(lst):\n",
    "    data = np.zeros((0, 4))\n",
    "\n",
    "    for jj, dds in enumerate(lst):\n",
    "            dds_index=np.hstack((dds, jj * np.ones( (len(dds),1)) ) )\n",
    "            data=np.vstack( (data, dds_index) )\n",
    "    return data\n",
    "                        \n",
    "design_efficiencies_combined=combineEfficiencyData([design_efficiencies0, design_efficiencies])\n",
    "plot_handles=oapackage.generateDscatter(design_efficiencies_combined, ndata=3, lbls=['Optimize $D$','Optimize $D+2D_s$'], verbose=0)"
   ]
  },
  {
   "cell_type": "code",
   "execution_count": null,
   "metadata": {
    "collapsed": true
   },
   "outputs": [],
   "source": []
  }
 ],
 "metadata": {
  "kernelspec": {
   "display_name": "Python 3",
   "language": "python",
   "name": "python3"
  },
  "language_info": {
   "codemirror_mode": {
    "name": "ipython",
    "version": 3
   },
   "file_extension": ".py",
   "mimetype": "text/x-python",
   "name": "python",
   "nbconvert_exporter": "python",
   "pygments_lexer": "ipython3",
   "version": "3.5.2"
  }
 },
 "nbformat": 4,
 "nbformat_minor": 1
}
