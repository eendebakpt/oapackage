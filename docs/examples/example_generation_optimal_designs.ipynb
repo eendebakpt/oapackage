{
 "cells": [
  {
   "cell_type": "markdown",
   "metadata": {},
   "source": [
    "# Generate D-optimal designs"
   ]
  },
  {
   "cell_type": "markdown",
   "metadata": {},
   "source": [
    "This notebook contains example code from [Two-level designs to estimate all main effects and two-factor interactions](https://doi.org/10.1080/00401706.2016.1142903).\n",
    "This example shows how to generate optimal designs with a user-specified optimization function.\n",
    "\n",
    "First we load packages and define the class of designs to generate."
   ]
  },
  {
   "cell_type": "code",
   "execution_count": 1,
   "metadata": {
    "collapsed": false
   },
   "outputs": [
    {
     "name": "stdout",
     "output_type": "stream",
     "text": [
      "We generate optimal designs with 40 rows and 7 columns\n",
      "\n"
     ]
    }
   ],
   "source": [
    "import numpy as np\n",
    "import oapackage\n",
    "\n",
    "#%% Select to class of designs to generate\n",
    "N=40; s=2; k=7;\n",
    "arrayclass=oapackage.arraydata_t(s, N, 0, k)\n",
    "print('We generate optimal designs with %d rows and %d columns\\n' % (N, k) )"
   ]
  },
  {
   "cell_type": "markdown",
   "metadata": {},
   "source": [
    "We use $\\alpha=(1,2,0)$ as parameters for the optimization function. And generate a single optimal design"
   ]
  },
  {
   "cell_type": "code",
   "execution_count": 7,
   "metadata": {
    "collapsed": false
   },
   "outputs": [
    {
     "name": "stdout",
     "output_type": "stream",
     "text": [
      "Doptim: optimization class 40.2-2-2-2-2-2-2\n",
      "Doptimize: iteration 0/40\n",
      "Doptimize: iteration 39/40\n",
      "Doptim: done (14 arrays, 2.0 [s])\n"
     ]
    }
   ],
   "source": [
    "alpha=[1,2,0]\n",
    "scores, dds, designs, ngenerated = oapackage.Doptimize(arrayclass, nrestarts=40, optimfunc=alpha, selectpareto=True)"
   ]
  },
  {
   "cell_type": "code",
   "execution_count": 8,
   "metadata": {
    "collapsed": false
   },
   "outputs": [
    {
     "name": "stdout",
     "output_type": "stream",
     "text": [
      "\n",
      "Generated 14 designs, the efficiencies for these designs are:\n",
      "array 0: D-efficiency 0.8713, Ds-efficiency 0.9827\n",
      "array 1: D-efficiency 0.8723, Ds-efficiency 0.9807\n",
      "array 2: D-efficiency 0.9027, Ds-efficiency 0.9617\n",
      "array 3: D-efficiency 0.8996, Ds-efficiency 0.9623\n",
      "array 4: D-efficiency 0.8809, Ds-efficiency 0.9598\n",
      "array 5: D-efficiency 0.8790, Ds-efficiency 0.9598\n",
      "array 6: D-efficiency 0.8798, Ds-efficiency 0.9568\n",
      "array 7: D-efficiency 0.8946, Ds-efficiency 0.9445\n",
      "array 8: D-efficiency 0.9043, Ds-efficiency 0.9389\n",
      "array 9: D-efficiency 0.8814, Ds-efficiency 0.9495\n",
      "array 10: D-efficiency 0.8983, Ds-efficiency 0.9389\n",
      "array 11: D-efficiency 0.8954, Ds-efficiency 0.9398\n",
      "array 12: D-efficiency 0.8970, Ds-efficiency 0.9362\n",
      "array 13: D-efficiency 0.8501, Ds-efficiency 0.9592\n",
      "\n",
      "The design with the highest D-efficiency (0.9043) is:\n",
      "\n",
      "0101110100110010111110111010001100010000\n",
      "0100100101110111110011000111100110000011\n",
      "0000111111111101110101000000111010010100\n",
      "1001001111110011100101011111000000011110\n",
      "1000110111010111000110110010010000101011\n",
      "0010000000110111010110101001111101011110\n",
      "1111010110001111010001100011000000011001\n"
     ]
    }
   ],
   "source": [
    "print('\\nGenerated %d designs, the efficiencies for these designs are:' % len(designs))\n",
    "for ii, d in enumerate(designs):\n",
    "    dd = d.Defficiencies()\n",
    "    print('array %d: D-efficiency %.4f, Ds-efficiency %.4f' % (ii, dd[0], dd[1]) )\n",
    "\n",
    "D=[d.Defficiency() for d in designs]\n",
    "best=np.argmax(D)\n",
    "print('\\nThe design with the highest D-efficiency (%.4f) is:\\n' % D[best] )\n",
    "\n",
    "designs[best].transposed().showarraycompact()"
   ]
  }
 ],
 "metadata": {
  "kernelspec": {
   "display_name": "Python 3",
   "language": "python",
   "name": "python3"
  },
  "language_info": {
   "codemirror_mode": {
    "name": "ipython",
    "version": 3
   },
   "file_extension": ".py",
   "mimetype": "text/x-python",
   "name": "python",
   "nbconvert_exporter": "python",
   "pygments_lexer": "ipython3",
   "version": "3.5.2"
  }
 },
 "nbformat": 4,
 "nbformat_minor": 1
}
