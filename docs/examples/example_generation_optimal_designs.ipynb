{
 "cells": [
  {
   "cell_type": "markdown",
   "metadata": {},
   "source": [
    "# Generate D-efficient designs"
   ]
  },
  {
   "cell_type": "markdown",
   "metadata": {},
   "source": [
    "This notebook contains example code from the article [Two-level designs to estimate all main effects and two-factor interactions](https://doi.org/10.1080/00401706.2016.1142903) by Eendebak, P. T. and Schoen, E. D.\n",
    "This example shows how to generate D-efficient designs with a user-specified optimization function."
   ]
  },
  {
   "cell_type": "code",
   "execution_count": 1,
   "metadata": {},
   "outputs": [],
   "source": [
    "import numpy as np\n",
    "import oapackage\n",
    "import oapackage.Doptim\n",
    "\n",
    "%matplotlib inline"
   ]
  },
  {
   "cell_type": "markdown",
   "metadata": {},
   "source": [
    "Define the class of designs to generate."
   ]
  },
  {
   "cell_type": "code",
   "execution_count": 2,
   "metadata": {},
   "outputs": [
    {
     "name": "stdout",
     "output_type": "stream",
     "text": [
      "We generate D-efficient designs with 40 rows and 7 columns\n",
      "\n"
     ]
    }
   ],
   "source": [
    "run_size = 40\n",
    "number_of_factors = 7\n",
    "factor_levels = 2\n",
    "strength = 0\n",
    "arrayclass = oapackage.arraydata_t(factor_levels, run_size, strength, number_of_factors)\n",
    "print(\"We generate D-efficient designs with %d rows and %d columns\\n\" % (run_size, number_of_factors))"
   ]
  },
  {
   "cell_type": "markdown",
   "metadata": {},
   "source": [
    "Generate a single D-efficient design using $\\alpha=(1,2,0)$ as the parameters for the optimization function. For details on this parameter and its corresponding optimization function, see [Two-Level Designs to Estimate All Main Effects and Two-Factor Interactions](https://doi.org/10.1080/00401706.2016.1142903)."
   ]
  },
  {
   "cell_type": "code",
   "execution_count": 3,
   "metadata": {},
   "outputs": [
    {
     "name": "stdout",
     "output_type": "stream",
     "text": [
      "Doptim: optimization class 40.2-2-2-2-2-2-2\n",
      "Doptimize: iteration 0/30\n",
      "Doptimize: iteration 29/30\n",
      "Doptim: done (11 arrays, 0.4 [s])\n"
     ]
    }
   ],
   "source": [
    "alpha = [1, 2, 0]\n",
    "scores, design_efficiencies, designs, ngenerated = oapackage.Doptim.Doptimize(\n",
    "    arrayclass, nrestarts=30, optimfunc=alpha, selectpareto=True\n",
    ")"
   ]
  },
  {
   "cell_type": "code",
   "execution_count": 4,
   "metadata": {},
   "outputs": [
    {
     "name": "stdout",
     "output_type": "stream",
     "text": [
      "\n",
      "Generated 11 designs, the efficiencies for these designs are:\n",
      "array 0: D-efficiency 0.8815, Ds-efficiency 0.9807\n",
      "array 1: D-efficiency 0.9076, Ds-efficiency 0.9628\n",
      "array 2: D-efficiency 0.8670, Ds-efficiency 0.9827\n",
      "array 3: D-efficiency 0.8945, Ds-efficiency 0.9669\n",
      "array 4: D-efficiency 0.9027, Ds-efficiency 0.9540\n",
      "array 5: D-efficiency 0.8851, Ds-efficiency 0.9549\n",
      "array 6: D-efficiency 0.8737, Ds-efficiency 0.9581\n",
      "array 7: D-efficiency 0.9036, Ds-efficiency 0.9400\n",
      "array 8: D-efficiency 0.8614, Ds-efficiency 0.9595\n",
      "array 9: D-efficiency 0.8897, Ds-efficiency 0.9418\n",
      "array 10: D-efficiency 0.9046, Ds-efficiency 0.9203\n",
      "\n",
      "The design with the highest D-efficiency (0.9076) is:\n",
      "\n",
      "0010011001011001010101011101101100011101\n",
      "0011010111100101111100010111001100100010\n",
      "1011011111001010100010111001000010011010\n",
      "0101100001100111110011010001001100111110\n",
      "0011100010001101001011101101110100010001\n",
      "0011110000011011101001110011101010101000\n",
      "1000110011101000101110001001101111001101\n"
     ]
    }
   ],
   "source": [
    "print(\"\\nGenerated %d designs, the efficiencies for these designs are:\" % len(designs))\n",
    "for ii, d in enumerate(designs):\n",
    "    dd = d.Defficiencies()\n",
    "    print(\"array %d: D-efficiency %.4f, Ds-efficiency %.4f\" % (ii, dd[0], dd[1]))\n",
    "\n",
    "D = [d.Defficiency() for d in designs]\n",
    "best = np.argmax(D)\n",
    "print(\"\\nThe design with the highest D-efficiency (%.4f) is:\\n\" % D[best])\n",
    "\n",
    "designs[best].transposed().showarraycompact()"
   ]
  },
  {
   "cell_type": "markdown",
   "metadata": {},
   "source": [
    "Optimizing with a different optimization target leads to different D-efficient designs. Below we compare the sets of designs generated with\n",
    "optimization target [1,0,0] and [1,2,0]."
   ]
  },
  {
   "cell_type": "code",
   "execution_count": 5,
   "metadata": {},
   "outputs": [
    {
     "name": "stdout",
     "output_type": "stream",
     "text": [
      "Doptim: optimization class 40.2-2-2-2-2-2-2\n",
      "Doptimize: iteration 0/30\n",
      "Doptimize: iteration 29/30\n",
      "Doptim: done (13 arrays, 0.4 [s])\n"
     ]
    }
   ],
   "source": [
    "scores0, design_efficiencies0, designs0, _ = oapackage.Doptim.Doptimize(\n",
    "    arrayclass, nrestarts=30, optimfunc=[1, 0, 0], selectpareto=True\n",
    ")"
   ]
  },
  {
   "cell_type": "code",
   "execution_count": 7,
   "metadata": {},
   "outputs": [
    {
     "name": "stdout",
     "output_type": "stream",
     "text": [
      "Pareto: 23 optimal values, 24 objects\n"
     ]
    },
    {
     "data": {
      "image/png": "[encoded data removed]",
      "text/plain": [
       "<Figure size 432x288 with 1 Axes>"
      ]
     },
     "metadata": {},
     "output_type": "display_data"
    },
    {
     "data": {
      "text/plain": [
       "<Figure size 432x288 with 0 Axes>"
      ]
     },
     "metadata": {},
     "output_type": "display_data"
    }
   ],
   "source": [
    "def combineEfficiencyData(lst):\n",
    "    data = np.zeros((0, 4))\n",
    "\n",
    "    for jj, dds in enumerate(lst):\n",
    "        dds_index = np.hstack((dds, jj * np.ones((len(dds), 1))))\n",
    "        data = np.vstack((data, dds_index))\n",
    "    return data\n",
    "\n",
    "\n",
    "design_efficiencies_combined = combineEfficiencyData([design_efficiencies0, design_efficiencies])\n",
    "plot_handles = oapackage.generateDscatter(\n",
    "    design_efficiencies_combined, ndata=3, lbls=[\"Optimize $D$\", \"Optimize $D+2D_s$\"], verbose=0\n",
    ")"
   ]
  },
  {
   "cell_type": "code",
   "execution_count": null,
   "metadata": {},
   "outputs": [],
   "source": []
  }
 ],
 "metadata": {
  "kernelspec": {
   "display_name": "Python 3",
   "language": "python",
   "name": "python3"
  },
  "language_info": {
   "codemirror_mode": {
    "name": "ipython",
    "version": 3
   },
   "file_extension": ".py",
   "mimetype": "text/x-python",
   "name": "python",
   "nbconvert_exporter": "python",
   "pygments_lexer": "ipython3",
   "version": "3.8.6"
  }
 },
 "nbformat": 4,
 "nbformat_minor": 4
}
