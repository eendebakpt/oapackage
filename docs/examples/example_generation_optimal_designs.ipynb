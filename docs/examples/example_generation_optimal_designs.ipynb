{
 "cells": [
  {
   "cell_type": "markdown",
   "metadata": {},
   "source": [
    "# Generate D-efficient designs"
   ]
  },
  {
   "cell_type": "markdown",
   "metadata": {},
   "source": [
    "This notebook contains example code from the article [Two-level designs to estimate all main effects and two-factor interactions](https://doi.org/10.1080/00401706.2016.1142903). by Eendebak, P. T. and Schoen, E. D.\n",
    "This example shows how to generate D-efficient designs with a user-specified optimization function."
   ]
  },
  {
   "cell_type": "code",
   "execution_count": 1,
   "metadata": {},
   "outputs": [],
   "source": [
    "import numpy as np\n",
    "import oapackage\n",
    "import oapackage.Doptim"
   ]
  },
  {
   "cell_type": "markdown",
   "metadata": {},
   "source": [
    "Define the class of designs to generate."
   ]
  },
  {
   "cell_type": "code",
   "execution_count": 4,
   "metadata": {},
   "outputs": [
    {
     "name": "stdout",
     "output_type": "stream",
     "text": [
      "We generate D-efficient designs with 40 rows and 7 columns\n",
      "\n"
     ]
    }
   ],
   "source": [
    "run_size = 40\n",
    "number_of_factors=7 \n",
    "factor_levels=2 \n",
    "strength=0 \n",
    "arrayclass=oapackage.arraydata_t(factor_levels, run_size, strength, number_of_factors)\n",
    "print('We generate D-efficient designs with %d rows and %d columns\\n' % (run_size, number_of_factors) )"
   ]
  },
  {
   "cell_type": "markdown",
   "metadata": {},
   "source": [
    "Generate a single D-efficient design using $\\alpha=(1,2,0)$ as the parameters for the optimization function. For details on this parameter and its corresponding optimization function, see [Two-Level Designs to Estimate All Main Effects and Two-Factor Interactions](https://doi.org/10.1080/00401706.2016.1142903)."
   ]
  },
  {
   "cell_type": "code",
   "execution_count": 5,
   "metadata": {},
   "outputs": [
    {
     "name": "stdout",
     "output_type": "stream",
     "text": [
      "Doptim: optimization class 40.2-2-2-2-2-2-2\n",
      "Doptimize: iteration 0/30\n",
      "Doptimize: iteration 29/30\n",
      "Doptim: done (12 arrays, 1.5 [s])\n"
     ]
    }
   ],
   "source": [
    "alpha=[1,2,0]\n",
    "scores, design_efficiencies, designs, ngenerated = oapackage.Doptimize(arrayclass, nrestarts=30, optimfunc=alpha, selectpareto=True)"
   ]
  },
  {
   "cell_type": "code",
   "execution_count": 6,
   "metadata": {},
   "outputs": [
    {
     "name": "stdout",
     "output_type": "stream",
     "text": [
      "\n",
      "Generated 12 designs, the efficiencies for these designs are:\n",
      "array 0: D-efficiency 0.8775, Ds-efficiency 0.9783\n",
      "array 1: D-efficiency 0.9040, Ds-efficiency 0.9627\n",
      "array 2: D-efficiency 0.8632, Ds-efficiency 0.9827\n",
      "array 3: D-efficiency 0.9047, Ds-efficiency 0.9596\n",
      "array 4: D-efficiency 0.8498, Ds-efficiency 0.9854\n",
      "array 5: D-efficiency 0.8908, Ds-efficiency 0.9627\n",
      "array 6: D-efficiency 0.8829, Ds-efficiency 0.9631\n",
      "array 7: D-efficiency 0.8857, Ds-efficiency 0.9600\n",
      "array 8: D-efficiency 0.8859, Ds-efficiency 0.9552\n",
      "array 9: D-efficiency 0.8972, Ds-efficiency 0.9323\n",
      "array 10: D-efficiency 0.8905, Ds-efficiency 0.9345\n",
      "array 11: D-efficiency 0.8745, Ds-efficiency 0.9394\n",
      "\n",
      "The design with the highest D-efficiency (0.9047) is:\n",
      "\n",
      "1100011000010010111010110111000001110101\n",
      "1111000101100100100100011101001000111001\n",
      "1011011110110001100100100000010011100011\n",
      "1101110110000000101100110100011101001100\n",
      "0101011011101000110100011010100100111110\n",
      "0100010101011111001101100110000100110011\n",
      "0011001001000000100111111110111100010111\n"
     ]
    }
   ],
   "source": [
    "print('\\nGenerated %d designs, the efficiencies for these designs are:' % len(designs))\n",
    "for ii, d in enumerate(designs):\n",
    "    dd = d.Defficiencies()\n",
    "    print('array %d: D-efficiency %.4f, Ds-efficiency %.4f' % (ii, dd[0], dd[1]) )\n",
    "\n",
    "D=[d.Defficiency() for d in designs]\n",
    "best=np.argmax(D)\n",
    "print('\\nThe design with the highest D-efficiency (%.4f) is:\\n' % D[best] )\n",
    "\n",
    "designs[best].transposed().showarraycompact()"
   ]
  },
  {
   "cell_type": "markdown",
   "metadata": {},
   "source": [
    "Optimizing with a different optimization target leads to different D-efficient designs. Below we compare the sets of designs generated with\n",
    "optimization target [1,0,0] and [1,2,0]."
   ]
  },
  {
   "cell_type": "code",
   "execution_count": 7,
   "metadata": {},
   "outputs": [
    {
     "name": "stdout",
     "output_type": "stream",
     "text": [
      "Doptim: optimization class 40.2-2-2-2-2-2-2\n",
      "Doptimize: iteration 0/30\n",
      "Doptimize: iteration 29/30\n",
      "Doptim: done (8 arrays, 1.4 [s])\n"
     ]
    }
   ],
   "source": [
    "scores0, design_efficiencies0, designs0, _ = oapackage.Doptimize(arrayclass, nrestarts=30, optimfunc=[1,0,0], selectpareto=True)"
   ]
  },
  {
   "cell_type": "code",
   "execution_count": 9,
   "metadata": {},
   "outputs": [
    {
     "name": "stderr",
     "output_type": "stream",
     "text": [
      "'c' argument looks like a single numeric RGB or RGBA sequence, which should be avoided as value-mapping will have precedence in case its length matches with 'x' & 'y'.  Please use a 2-D array with a single row if you really want to specify the same RGB or RGBA value for all points.\n"
     ]
    },
    {
     "name": "stdout",
     "output_type": "stream",
     "text": [
      "Pareto: 20 optimal values, 20 objects\n"
     ]
    },
    {
     "data": {
      "image/png": "[encoded data removed]",
      "text/plain": [
       "<Figure size 432x288 with 1 Axes>"
      ]
     },
     "metadata": {},
     "output_type": "display_data"
    },
    {
     "data": {
      "text/plain": [
       "<Figure size 432x288 with 0 Axes>"
      ]
     },
     "metadata": {},
     "output_type": "display_data"
    }
   ],
   "source": [
    "def combineEfficiencyData(lst):\n",
    "    data = np.zeros((0, 4))\n",
    "\n",
    "    for jj, dds in enumerate(lst):\n",
    "            dds_index=np.hstack((dds, jj * np.ones( (len(dds),1)) ) )\n",
    "            data=np.vstack( (data, dds_index) )\n",
    "    return data\n",
    "                        \n",
    "design_efficiencies_combined=combineEfficiencyData([design_efficiencies0, design_efficiencies])\n",
    "plot_handles=oapackage.generateDscatter(design_efficiencies_combined, ndata=3, lbls=['Optimize $D$','Optimize $D+2D_s$'], verbose=0)"
   ]
  }
 ],
 "metadata": {
  "kernelspec": {
   "display_name": "Python 3",
   "language": "python",
   "name": "python3"
  },
  "language_info": {
   "codemirror_mode": {
    "name": "ipython",
    "version": 3
   },
   "file_extension": ".py",
   "mimetype": "text/x-python",
   "name": "python",
   "nbconvert_exporter": "python",
   "pygments_lexer": "ipython3",
   "version": "3.7.1"
  }
 },
 "nbformat": 4,
 "nbformat_minor": 1
}
