{
 "cells": [
  {
   "cell_type": "markdown",
   "metadata": {},
   "source": [
    "# Generate orthogonal arrays with high D-efficiency"
   ]
  },
  {
   "cell_type": "markdown",
   "metadata": {},
   "source": [
    "This notebook contains example code from the article <a href=\"https://doi.org/10.1080/00401706.2016.1142903\">Two-level designs to estimate all main effects and two-factor interactions</a> by Eendebak, P. T. and Schoen E. D.\n",
    "This example shows how to generate orthogonal arrays with a high $D$-efficiency in a reasonable amount of time (< 1 minute). For more results and details, see the paper.\n",
    "\n",
    "Generate a D-optimal orthogonal array of strength 2 with 32 runs and 7 factors."
   ]
  },
  {
   "cell_type": "code",
   "execution_count": 1,
   "metadata": {},
   "outputs": [],
   "source": [
    "import numpy as np\n",
    "import matplotlib.pyplot as plt\n",
    "import oapackage"
   ]
  },
  {
   "cell_type": "code",
   "execution_count": 2,
   "metadata": {},
   "outputs": [
    {
     "name": "stdout",
     "output_type": "stream",
     "text": [
      "In this example we generate orthogonal arrays in the class: arrayclass: N 32, k 7, strength 2, s {2,2,2,2,2,2,2}, order 0\n"
     ]
    }
   ],
   "source": [
    "run_size = 32\n",
    "number_of_factors=7\n",
    "factor_levels=2 \n",
    "strength=2 \n",
    "nkeep=24 # Number of designs to generate at each stage\n",
    "\n",
    "arrayclass=oapackage.arraydata_t(factor_levels, run_size, strength, number_of_factors)\n",
    "print('In this example we generate orthogonal arrays in the class: %s' % arrayclass)"
   ]
  },
  {
   "cell_type": "markdown",
   "metadata": {},
   "source": [
    "First, generate orthogonal arrays with the function `extend_arraylist`. Next, keep the arrays with the best $D$-efficiency."
   ]
  },
  {
   "cell_type": "code",
   "execution_count": 9,
   "metadata": {},
   "outputs": [
    {
     "name": "stdout",
     "output_type": "stream",
     "text": [
      "extend 1 arrays with 2 columns with a single column\n",
      "  generated 5 arrays, selected 5 arrays with D-efficiency 0.0000 to 1.0000\n",
      "extend 5 arrays with 3 columns with a single column\n",
      "  generated 19 arrays, selected 19 arrays with D-efficiency 0.0000 to 1.0000\n",
      "extend 19 arrays with 4 columns with a single column\n",
      "  generated 491 arrays, selected 24 arrays with D-efficiency 0.9183 to 1.0000\n"
     ]
    }
   ],
   "source": [
    "#%% Create the root array\n",
    "arraylist=[arrayclass.create_root()]\n",
    "\n",
    "#%% Extend arrays and filter based on D-efficiency\n",
    "options=oapackage.OAextend()\n",
    "options.setAlgorithmAuto(arrayclass)\n",
    "\n",
    "for extension_column in range(strength+1, number_of_factors-1):    \n",
    "    print('extend %d arrays with %d columns with a single column' % (len(arraylist), arraylist[0].n_columns) )\n",
    "    arraylist_extensions = oapackage.extend_arraylist(arraylist, arrayclass, options)\n",
    "\n",
    "    # Select the best arrays based on the D-efficiency\n",
    "    dd = np.array([a.Defficiency() for a in arraylist_extensions])\n",
    "    ind = np.argsort(dd)[::-1]\n",
    "    ind = ind[0:nkeep]\n",
    "    selection = [ arraylist_extensions[ii] for ii in ind]\n",
    "    dd=dd[ind]\n",
    "    print('  generated %d arrays, selected %d arrays with D-efficiency %.4f to %.4f' % (len(arraylist_extensions), len(ind), dd.min(), dd.max() ) )    \n",
    "    \n",
    "    arraylist = selection"
   ]
  },
  {
   "cell_type": "markdown",
   "metadata": {},
   "source": [
    "Show the best array from the list of D-optimal orthogonal arrays."
   ]
  },
  {
   "cell_type": "code",
   "execution_count": 10,
   "metadata": {},
   "outputs": [
    {
     "name": "stdout",
     "output_type": "stream",
     "text": [
      "Generated a design in OA(32, 2, 2^7) with D-efficiency 1.0000\n",
      "The array is (in transposed form):\n",
      "\n",
      "00000000000000001111111111111111\n",
      "00000000111111110000000011111111\n",
      "00001111000011110000111100001111\n",
      "00110011001100110011001100110011\n",
      "00111100110000111100001100111100\n"
     ]
    }
   ],
   "source": [
    "print('Generated a design in OA(%d, %d, 2^%d) with D-efficiency %.4f' % (arrayclass.N, arrayclass.strength, arrayclass.ncols, dd[0] ) )\n",
    "print('The array is (in transposed form):\\n')\n",
    "selection[0].transposed().showarraycompact()"
   ]
  },
  {
   "cell_type": "markdown",
   "metadata": {},
   "source": [
    "We calculate the $D$-, $D_s$- and $D_1$-efficiencies."
   ]
  },
  {
   "cell_type": "code",
   "execution_count": 11,
   "metadata": {},
   "outputs": [
    {
     "data": {
      "text/plain": [
       "array([[1.        , 1.        , 1.        ],\n",
       "       [1.        , 1.        , 1.        ],\n",
       "       [0.96181574, 0.88286443, 1.        ],\n",
       "       [0.96181574, 0.95650928, 1.        ],\n",
       "       [0.96181574, 0.95650928, 1.        ],\n",
       "       [0.96181574, 0.88286443, 1.        ],\n",
       "       [0.9499338 , 0.91920814, 1.        ],\n",
       "       [0.9499338 , 0.84843523, 1.        ],\n",
       "       [0.94748859, 0.84146636, 1.        ],\n",
       "       [0.94748859, 0.91165796, 1.        ],\n",
       "       [0.94748859, 1.        , 1.        ],\n",
       "       [0.94748859, 0.84146636, 1.        ],\n",
       "       [0.93542586, 0.80766262, 1.        ],\n",
       "       [0.93542586, 0.87503445, 1.        ],\n",
       "       [0.92726746, 0.85084654, 1.        ],\n",
       "       [0.92193084, 0.83527574, 1.        ],\n",
       "       [0.92193084, 0.83527574, 1.        ],\n",
       "       [0.92193084, 0.83527574, 1.        ],\n",
       "       [0.91885468, 0.76276343, 1.        ],\n",
       "       [0.91885468, 0.9078394 , 1.        ],\n",
       "       [0.91885468, 0.82638995, 1.        ],\n",
       "       [0.91827841, 0.76123368, 1.        ],\n",
       "       [0.91827841, 0.8247326 , 1.        ],\n",
       "       [0.91827841, 0.9060187 , 1.        ]])"
      ]
     },
     "execution_count": 11,
     "metadata": {},
     "output_type": "execute_result"
    }
   ],
   "source": [
    "efficiencies = np.array([array.Defficiencies() for array in arraylist])\n",
    "efficiencies"
   ]
  },
  {
   "cell_type": "markdown",
   "metadata": {},
   "source": [
    "Visualize the D-efficiencies using a scatter plot."
   ]
  },
  {
   "cell_type": "code",
   "execution_count": 12,
   "metadata": {},
   "outputs": [
    {
     "data": {
      "image/png": "[encoded data removed]",
      "text/plain": [
       "<Figure size 432x288 with 1 Axes>"
      ]
     },
     "metadata": {
      "needs_background": "light"
     },
     "output_type": "display_data"
    }
   ],
   "source": [
    "plt.plot(efficiencies[:,0], efficiencies[:,1], '.b')\n",
    "plt.title('Scatterplot of effiencies of designs with %d columns' % arraylist[0].n_columns)\n",
    "plt.xlabel('D-efficiency')\n",
    "_=plt.ylabel('Ds-efficiency')"
   ]
  },
  {
   "cell_type": "code",
   "execution_count": null,
   "metadata": {},
   "outputs": [],
   "source": []
  }
 ],
 "metadata": {
  "kernelspec": {
   "display_name": "Python 3",
   "language": "python",
   "name": "python3"
  },
  "language_info": {
   "codemirror_mode": {
    "name": "ipython",
    "version": 3
   },
   "file_extension": ".py",
   "mimetype": "text/x-python",
   "name": "python",
   "nbconvert_exporter": "python",
   "pygments_lexer": "ipython3",
   "version": "3.7.1"
  }
 },
 "nbformat": 4,
 "nbformat_minor": 1
}
