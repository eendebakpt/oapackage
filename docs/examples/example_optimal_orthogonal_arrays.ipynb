{
 "cells": [
  {
   "cell_type": "markdown",
   "metadata": {},
   "source": [
    "# Generate orthogonal arrays with high D-efficiency"
   ]
  },
  {
   "cell_type": "markdown",
   "metadata": {},
   "source": [
    "This notebook contains example code from the article <a href=\"https://doi.org/10.1080/00401706.2016.1142903\">Two-level designs to estimate all main effects and two-factor interactions</a> by Eendebak, P.T. and Schoen E.D..\n",
    "This example shows how to generate orthogonal arrays with a high $D$-efficiency in a reasonable amount of time (< 1 minute). For more results and details, please see the paper.\n",
    "\n",
    "Generate a D-optimal orthogonal array of strength 2 with 32 runs and 7 factors."
   ]
  },{
   "cell_type": "code",
   "execution_count": 1,
   "metadata": {
    "collapsed": false
   },
   "outputs": [],
   "source": [
    "import numpy as np\n",
    "import oapackage"
   ]
  },
  {
   "cell_type": "code",
   "execution_count": 5,
   "metadata": {},
   "outputs": [
    {
     "name": "stdout",
     "output_type": "stream",
     "text": [
      "In this example we generate orthogonal arrays in the class: arrayclass: N 32, k 7, strength 2, s {2,2,2,2,2,2,2}, order 0\n"
     ]
    }
   ],
   "source": [
    "N=32 # Run size\n",
    "k=7 # Number of factors\n",
    "s=2 # Number of factor levels\n",
    "strength=2 # Strength of the design\n",
    "nkeep=24 # Number of designs to generate\n",
    "\n",
    "arrayclass=oapackage.arraydata_t(s, N, strength, k)\n",
    "print('In this example we generate orthogonal arrays in the class: %s' % arrayclass)"
   ]
  },
  {
   "cell_type": "markdown",
   "metadata": {},
   "source": [
    "First, generate orthogonal arrays with the function `extend_arraylist`. Next, keep the arrays with the best $D$-efficiency."
   ]
  },
  {
   "cell_type": "code",
   "execution_count": 12,
   "metadata": {},
   "outputs": [
    {
     "name": "stdout",
     "output_type": "stream",
     "text": [
      "extend 1 arrays with 2 columns with a single column\n",
      "  generated 5 arrays, selected 5 arrays with D-efficiency 0.0000 to 1.0000\n",
      "extend 5 arrays with 3 columns with a single column\n",
      "  generated 19 arrays, selected 19 arrays with D-efficiency 0.0000 to 1.0000\n",
      "extend 19 arrays with 4 columns with a single column\n",
      "  generated 491 arrays, selected 24 arrays with D-efficiency 0.9183 to 1.0000\n"
     ]
    }
   ],
   "source": [
    "#%% Create the root array\n",
    "al=arrayclass.create_root()\n",
    "arraylist=oapackage.arraylist_t()\n",
    "arraylist.push_back(al)\n",
    "\n",
    "#%% Extend arrays and filter based on D-efficiency\n",
    "options=oapackage.OAextend()\n",
    "options.setAlgorithmAuto(arrayclass)\n",
    "\n",
    "for ii in range(strength+1, k-1):    \n",
    "    print('extend %d arrays with %d columns with a single column' % (len(arraylist), arraylist[0].n_columns) )\n",
    "    arraylist2=oapackage.extend_arraylist(arraylist, arrayclass, options)\n",
    "\n",
    "    # select the best arrays based on the D-efficiency\n",
    "    dd=np.array([a.Defficiency() for a in arraylist2])\n",
    "    ind=np.argsort(dd)[::-1]\n",
    "    ind=ind[0:nkeep]\n",
    "    selection=[ arraylist2[ii] for ii in ind]\n",
    "    dd=dd[ind]\n",
    "    print('  generated %d arrays, selected %d arrays with D-efficiency %.4f to %.4f' % (len(arraylist2), len(ind), dd.min(), dd.max() ) )    \n",
    "    \n",
    "    arraylist=selection"
   ]
  },
  {
   "cell_type": "markdown",
   "metadata": {},
   "source": [
    "Show the best array from the list of D-optimal orthogonal arrays."
   ]
  },
  {
   "cell_type": "code",
   "execution_count": 13,
   "metadata": {},
   "outputs": [
    {
     "name": "stdout",
     "output_type": "stream",
     "text": [
      "Generated a design in OA(32, 2, 2^7) with D-efficiency 1.0000\n",
      "The array is (in transposed form):\n",
      "\n",
      "00000000000000001111111111111111\n",
      "00000000111111110000000011111111\n",
      "00001111000011110000111100001111\n",
      "00110011001100110011001100110011\n",
      "00111100110000111100001100111100\n"
     ]
    }
   ],
   "source": [
    "print('Generated a design in OA(%d, %d, 2^%d) with D-efficiency %.4f' % (arrayclass.N, arrayclass.strength, arrayclass.ncols, dd[0] ) )\n",
    "print('The array is (in transposed form):\\n')\n",
    "selection[0].transposed().showarraycompact()"
   ]
  }
 ],
 "metadata": {
  "kernelspec": {
   "display_name": "Python 3",
   "language": "python",
   "name": "python3"
  },
  "language_info": {
   "codemirror_mode": {
    "name": "ipython",
    "version": 3
   },
   "file_extension": ".py",
   "mimetype": "text/x-python",
   "name": "python",
   "nbconvert_exporter": "python",
   "pygments_lexer": "ipython3",
   "version": "3.6.3"
  }
 },
 "nbformat": 4,
 "nbformat_minor": 1
}
