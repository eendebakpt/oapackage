{
 "cells": [
  {
   "cell_type": "markdown",
   "metadata": {},
   "source": [
    "# Generate orthogonal arrays with high D-efficiency"
   ]
  },
  {
   "cell_type": "markdown",
   "metadata": {},
   "source": [
    "This notebook contains example code from the article [Two-level designs to estimate all main effects and two-factor interactions](https://doi.org/10.1080/00401706.2016.1142903) by Eendebak, P. T. and Schoen, E. D.\n",
    "This example shows how to generate orthogonal arrays with a high $D$-efficiency in a reasonable amount of time (< 1 minute). For more results and details, see the paper.\n",
    "\n",
    "Generate a D-optimal orthogonal array of strength 2 with 32 runs and 7 factors."
   ]
  },
  {
   "cell_type": "code",
   "execution_count": 12,
   "metadata": {},
   "outputs": [],
   "source": [
    "import matplotlib.pyplot as plt\n",
    "import numpy as np\n",
    "\n",
    "import oapackage\n",
    "\n",
    "%matplotlib inline"
   ]
  },
  {
   "cell_type": "code",
   "execution_count": 2,
   "metadata": {},
   "outputs": [
    {
     "name": "stdout",
     "output_type": "stream",
     "text": [
      "In this example we generate orthogonal arrays in the class: arrayclass: N 32, k 7, strength 2, s {2,2,2,2,2,2,2}, order 0\n"
     ]
    }
   ],
   "source": [
    "run_size = 32\n",
    "number_of_factors = 7\n",
    "factor_levels = 2\n",
    "strength = 2\n",
    "nkeep = 24  # Number of designs to keep at each stage\n",
    "\n",
    "arrayclass = oapackage.arraydata_t(factor_levels, run_size, strength, number_of_factors)\n",
    "print(\"In this example we generate orthogonal arrays in the class: %s\" % arrayclass)"
   ]
  },
  {
   "cell_type": "markdown",
   "metadata": {},
   "source": [
    "First, generate orthogonal arrays with the function `extend_arraylist`. Next, keep the arrays with the best $D$-efficiency."
   ]
  },
  {
   "cell_type": "code",
   "execution_count": 7,
   "metadata": {},
   "outputs": [
    {
     "name": "stdout",
     "output_type": "stream",
     "text": [
      "extend 1 arrays with 2 columns with a single column\n",
      "  generated 5 arrays, selected 5 arrays with D-efficiency 0.0000 to 1.0000\n",
      "extend 5 arrays with 3 columns with a single column\n",
      "  generated 19 arrays, selected 19 arrays with D-efficiency 0.0000 to 1.0000\n",
      "extend 19 arrays with 4 columns with a single column\n",
      "  generated 491 arrays, selected 24 arrays with D-efficiency 0.9183 to 1.0000\n",
      "extend 24 arrays with 5 columns with a single column\n",
      "  generated 2475 arrays, selected 24 arrays with D-efficiency 0.9196 to 1.0000\n",
      "extend 24 arrays with 6 columns with a single column\n",
      "  generated 94 arrays, selected 24 arrays with D-efficiency 0.7844 to 0.8360\n"
     ]
    }
   ],
   "source": [
    "arraylist = [arrayclass.create_root()]\n",
    "\n",
    "# %% Extend arrays and filter based on D-efficiency\n",
    "options = oapackage.OAextend()\n",
    "options.setAlgorithmAuto(arrayclass)\n",
    "\n",
    "for extension_column in range(strength + 1, number_of_factors + 1):\n",
    "    print(\"extend %d arrays with %d columns with a single column\" % (len(arraylist), arraylist[0].n_columns))\n",
    "    arraylist_extensions = oapackage.extend_arraylist(arraylist, arrayclass, options)\n",
    "\n",
    "    # Select the best arrays based on the D-efficiency\n",
    "    dd = np.array([a.Defficiency() for a in arraylist_extensions])\n",
    "    ind = np.argsort(dd)[::-1][0:nkeep]\n",
    "    selection = [arraylist_extensions[ii] for ii in ind]\n",
    "    dd = dd[ind]\n",
    "    print(\n",
    "        \"  generated %d arrays, selected %d arrays with D-efficiency %.4f to %.4f\"\n",
    "        % (len(arraylist_extensions), len(ind), dd.min(), dd.max())\n",
    "    )\n",
    "\n",
    "    arraylist = selection"
   ]
  },
  {
   "cell_type": "markdown",
   "metadata": {},
   "source": [
    "Show the best array from the list of D-optimal orthogonal arrays."
   ]
  },
  {
   "cell_type": "code",
   "execution_count": 20,
   "metadata": {},
   "outputs": [
    {
     "name": "stdout",
     "output_type": "stream",
     "text": [
      "Generated a design in OA(32, 2, 2^7) with D-efficiency 0.8360\n",
      "The array is (in transposed form):\n",
      "\n",
      "00000000000000001111111111111111\n",
      "00000000111111110000000011111111\n",
      "00000111000111110001111100000111\n",
      "00011001011001110110011100011001\n",
      "00101010101010111010101100101010\n",
      "01001011010110011101000101101001\n",
      "01110010001101010111001010100011\n"
     ]
    }
   ],
   "source": [
    "selected_array = selection[0]\n",
    "print(\n",
    "    \"Generated a design in OA(%d, %d, 2^%d) with D-efficiency %.4f\"\n",
    "    % (selected_array.n_rows, arrayclass.strength, selected_array.n_columns, dd[0])\n",
    ")\n",
    "print(\"The array is (in transposed form):\\n\")\n",
    "selected_array.transposed().showarraycompact()"
   ]
  },
  {
   "cell_type": "markdown",
   "metadata": {},
   "source": [
    "We calculate the $D$-, $D_s$- and $D_1$-efficiencies."
   ]
  },
  {
   "cell_type": "code",
   "execution_count": 21,
   "metadata": {},
   "outputs": [
    {
     "name": "stdout",
     "output_type": "stream",
     "text": [
      "[[0.8360354  0.72763273 1.        ]\n",
      " [0.83481532 0.78995185 1.        ]\n",
      " [0.82829522 0.70849985 1.        ]\n",
      " [0.82829522 0.65037401 1.        ]\n",
      " [0.82545286 0.75411444 1.        ]\n",
      " [0.8185915  0.65157148 1.        ]\n",
      " [0.81676643 0.68965719 1.        ]\n",
      " [0.81559279 0.72218391 1.        ]\n",
      " [0.81557799 0.66966068 1.        ]\n",
      " [0.81302642 0.74299714 1.        ]\n",
      " [0.80973102 0.73354611 1.        ]\n",
      " [0.80286424 0.67455544 1.        ]\n",
      " [0.79907785 0.72697978 1.        ]\n",
      " [0.79762174 0.58515515 1.        ]\n",
      " [0.79514152 0.65199837 1.        ]\n",
      " [0.79348419 0.74167976 1.        ]\n",
      " [0.7928208  0.70038649 1.        ]\n",
      " [0.79225237 0.71961467 1.        ]\n",
      " [0.79171981 0.62994172 1.        ]\n",
      " [0.79160277 0.66978711 1.        ]\n",
      " [0.7883109  0.62733236 1.        ]\n",
      " [0.78683679 0.60799604 1.        ]\n",
      " [0.78477264 0.69310129 1.        ]\n",
      " [0.7843891  0.7533355  1.        ]]\n"
     ]
    }
   ],
   "source": [
    "efficiencies = np.array([array.Defficiencies() for array in arraylist])\n",
    "print(efficiencies)"
   ]
  },
  {
   "cell_type": "markdown",
   "metadata": {},
   "source": [
    "Visualize the $D$-efficiencies using a scatter plot."
   ]
  },
  {
   "cell_type": "code",
   "execution_count": 19,
   "metadata": {},
   "outputs": [
    {
     "data": {
      "image/png": "[encoded data removed]",
      "text/plain": [
       "<Figure size 432x288 with 1 Axes>"
      ]
     },
     "metadata": {
      "needs_background": "light"
     },
     "output_type": "display_data"
    }
   ],
   "source": [
    "plt.plot(efficiencies[:, 0], efficiencies[:, 1], \".b\")\n",
    "plt.title(\"Scatterplot of effiencies of designs with %d columns\" % arraylist[0].n_columns)\n",
    "plt.xlabel(\"D-efficiency\")\n",
    "_ = plt.ylabel(\"Ds-efficiency\")"
   ]
  }
 ],
 "metadata": {
  "kernelspec": {
   "display_name": "Python 3 (ipykernel)",
   "language": "python",
   "name": "python3"
  },
  "language_info": {
   "codemirror_mode": {
    "name": "ipython",
    "version": 3
   },
   "file_extension": ".py",
   "mimetype": "text/x-python",
   "name": "python",
   "nbconvert_exporter": "python",
   "pygments_lexer": "ipython3",
   "version": "3.10.8"
  }
 },
 "nbformat": 4,
 "nbformat_minor": 4
}
