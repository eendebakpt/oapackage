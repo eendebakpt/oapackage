{
 "cells": [
  {
   "cell_type": "markdown",
   "metadata": {},
   "source": [
    "# Example script to use Nauty from Python"
   ]
  },
  {
   "cell_type": "markdown",
   "metadata": {},
   "source": [
    "Nauty can be used to reduce any graph into a normal form. In this notebook, we show how to use the Nauty functionality from Python."
   ]
  },{
   "cell_type": "code",
   "execution_count": 1,
   "metadata": {
    "collapsed": false
   },
   "outputs": [],
   "source": [
    "import numpy as np\n",
    "import oapackage"
   ]
  },{
   "cell_type": "markdown",
   "metadata": {},
   "source": [
    "Define a function to invert a permutation."
   ]
  },
  {
   "cell_type": "code",
   "execution_count": 2,
   "metadata": {},
   "outputs": [],
   "source": [
    "def inv(perm):\n",
    "    inverse = [0] * len(perm)\n",
    "    for i, p in enumerate(perm):\n",
    "        inverse[p] = i\n",
    "    return inverse"
   ]
  },
  {
   "cell_type": "markdown",
   "metadata": {},
   "source": [
    "Define a graph of size $5\\times 5$ and a coloring with two colors."
   ]
  },
  {
   "cell_type": "code",
   "execution_count": 3,
   "metadata": {},
   "outputs": [],
   "source": [
    "# define some graph and colors\n",
    "G= np.zeros( (5,5), dtype=int); G[0,1]=G[0,2]=G[0,3]=G[1,3]=1;\n",
    "G = np.maximum(G, G.T) # make array symmetric\n",
    "colors = [0,0,0,1,1]"
   ]
  },
  {
   "cell_type": "markdown",
   "metadata": {},
   "source": [
    "Reduce the graph to normal form using Nauty."
   ]
  },
  {
   "cell_type": "code",
   "execution_count": 3,
   "metadata": {},
   "outputs": [],
   "source": [
    "oapackage.reduceGraphNauty?"
   ]
  },
  {
   "cell_type": "code",
   "execution_count": 4,
   "metadata": {},
   "outputs": [
    {
     "name": "stdout",
     "output_type": "stream",
     "text": [
      "normal form reduction: (1, 2, 0, 4, 3)\n",
      "input graph: \n",
      "[[0 1 1 1 0]\n",
      " [1 0 0 1 0]\n",
      " [1 0 0 0 0]\n",
      " [1 1 0 0 0]\n",
      " [0 0 0 0 0]]\n",
      "reduced graph: \n",
      "[[0 0 1 0 1]\n",
      " [0 0 1 0 0]\n",
      " [1 1 0 0 1]\n",
      " [0 0 0 0 0]\n",
      " [1 0 1 0 0]]\n",
      "colors reduced: [0, 0, 0, 1, 1]\n"
     ]
    }
   ],
   "source": [
    "tr = oapackage.reduceGraphNauty(G, colors=colors, verbose=0)\n",
    "tri = inv(tr)\n",
    "\n",
    "Greduced=oapackage.transformGraphMatrix(G, tri)\n",
    "\n",
    "print('normal form reduction: %s' % (tr,))\n",
    "print('input graph: ')\n",
    "print(G)\n",
    "\n",
    "print('reduced graph: ')\n",
    "print(Greduced)\n",
    "\n",
    "colorsr=[colors[idx] for idx in tri]\n",
    "print('colors reduced: %s' % (colorsr,))"
   ]
  },
  {
   "cell_type": "markdown",
   "metadata": {},
   "source": [
    "Apply a random permutation to the graph and reduce the graph again."
   ]
  },
  {
   "cell_type": "code",
   "execution_count": 5,
   "metadata": {},
   "outputs": [
    {
     "name": "stdout",
     "output_type": "stream",
     "text": [
      "permutation: [2 1 0 3 4]\n"
     ]
    }
   ],
   "source": [
    "perm = np.random.permutation(5); iperm = inv(perm)\n",
    "print('permutation: %s' % (perm,))\n",
    "G2 = G[perm, :][:,perm]\n",
    "colors2=[colors[idx] for idx in perm]"
   ]
  },
  {
   "cell_type": "markdown",
   "metadata": {},
   "source": [
    "Show the transformed matrix and color vector."
   ]
  },
  {
   "cell_type": "code",
   "execution_count": 6,
   "metadata": {},
   "outputs": [
    {
     "name": "stdout",
     "output_type": "stream",
     "text": [
      "[[0 0 1 0 0]\n",
      " [0 0 1 1 0]\n",
      " [1 1 0 1 0]\n",
      " [0 1 1 0 0]\n",
      " [0 0 0 0 0]]\n",
      "[0, 0, 0, 1, 1]\n"
     ]
    }
   ],
   "source": [
    "print(G2)\n",
    "print(colors2)"
   ]
  },
  {
   "cell_type": "code",
   "execution_count": 7,
   "metadata": {},
   "outputs": [
    {
     "name": "stdout",
     "output_type": "stream",
     "text": [
      "tr2: (1, 0, 2, 4, 3)\n",
      "input graph: \n",
      "[[0 0 1 0 0]\n",
      " [0 0 1 1 0]\n",
      " [1 1 0 1 0]\n",
      " [0 1 1 0 0]\n",
      " [0 0 0 0 0]]\n",
      "reduced graph: \n",
      "[[0 0 1 0 1]\n",
      " [0 0 1 0 0]\n",
      " [1 1 0 0 1]\n",
      " [0 0 0 0 0]\n",
      " [1 0 1 0 0]]\n",
      "colors2r: [0, 0, 0, 1, 1]\n"
     ]
    }
   ],
   "source": [
    "tr2 = oapackage.reduceGraphNauty(G2, colors=colors2, verbose=0)\n",
    "tr2i = inv(tr2)\n",
    "\n",
    "colors2r=[colors2[idx] for idx in tr2]\n",
    "\n",
    "G2reduced=oapackage.transformGraphMatrix(G2, tr2i)\n",
    "\n",
    "print('tr2: %s' % (tr2,))\n",
    "print('input graph: ')\n",
    "print(G2)\n",
    "\n",
    "print('reduced graph: ')\n",
    "print(G2reduced)\n",
    "\n",
    "print('colors2r: %s' % (colors2r,))"
   ]
  },
  {
   "cell_type": "markdown",
   "metadata": {},
   "source": [
    "Check that the two reduced graphs are equal."
   ]
  },
  {
   "cell_type": "code",
   "execution_count": 8,
   "metadata": {},
   "outputs": [
    {
     "name": "stdout",
     "output_type": "stream",
     "text": [
      "reduced arrays are equal!\n"
     ]
    }
   ],
   "source": [
    "if np.all(Greduced==G2reduced):\n",
    "    print('reduced arrays are equal!')"
   ]
  }
 ],
 "metadata": {
  "kernelspec": {
   "display_name": "Python 3",
   "language": "python",
   "name": "python3"
  },
  "language_info": {
   "codemirror_mode": {
    "name": "ipython",
    "version": 3
   },
   "file_extension": ".py",
   "mimetype": "text/x-python",
   "name": "python",
   "nbconvert_exporter": "python",
   "pygments_lexer": "ipython3",
   "version": "3.6.3"
  }
 },
 "nbformat": 4,
 "nbformat_minor": 1
}
