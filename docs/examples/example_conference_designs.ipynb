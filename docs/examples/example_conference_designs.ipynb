{
 "cells": [
  {
   "cell_type": "markdown",
   "metadata": {},
   "source": [
    "# Generation and analysis of conference designs"
   ]
  },
  {
   "cell_type": "markdown",
   "metadata": {},
   "source": [
    "In this notebook we show how to generate conference designs and calculate properties of these designs. The properties are described in more detail in\n",
    "[A Classification Criterion for Definitive Screening Designs](https://www.e-publications.org/ims/submission/AOS/user/submissionFile/34633?confirm=9594b2c3), Schoen et al., 2018 and in\n",
    "[Enumeration and Classiffcation of Deffnitive Screening Designs] (in preparation)."
   ]
  },
  {
   "cell_type": "code",
   "execution_count": 6,
   "metadata": {},
   "outputs": [
    {
     "name": "stdout",
     "output_type": "stream",
     "text": [
      "conference type: N 12, ncols 6\n"
     ]
    }
   ],
   "source": [
    "import oapackage\n",
    "\n",
    "conference_class=oapackage.conference_t(12, 6, 0)\n",
    "print(conference_class)"
   ]
  },
  {
   "cell_type": "code",
   "execution_count": 10,
   "metadata": {},
   "outputs": [
    {
     "name": "stdout",
     "output_type": "stream",
     "text": [
      "extention resulted in 9 designs with 4 columns\n",
      "extention resulted in 42 designs with 5 columns\n",
      "extention resulted in 123 designs with 6 columns\n",
      "extention resulted in 184 designs with 7 columns\n"
     ]
    }
   ],
   "source": [
    "conference_designs=[[conference_class.create_root_three()]]\n",
    "\n",
    "for ii, ncols in enumerate(range(4, 8)):\n",
    "    arrays = oapackage.extend_conference (conference_designs[ii], conference_class, verbose=0)\n",
    "    conference_designs.append(arrays)\n",
    "    print('extention resulted in %d designs with %d columns' % (len(arrays), ncols))"
   ]
  },
  {
   "cell_type": "markdown",
   "metadata": {},
   "source": [
    "## Properties of conference designs"
   ]
  },
  {
   "cell_type": "code",
   "execution_count": 14,
   "metadata": {},
   "outputs": [
    {
     "name": "stdout",
     "output_type": "stream",
     "text": [
      "array: \n",
      "  0   1   1   1   1   1   1\n",
      "  1   0  -1  -1  -1  -1  -1\n",
      "  1   1   0  -1  -1   1   1\n",
      "  1   1   1   0   1  -1  -1\n",
      "  1   1   1  -1   0  -1   1\n",
      "  1   1  -1   1   1   0  -1\n",
      "  1   1  -1   1  -1   1   0\n",
      "  1  -1   1   1  -1   1  -1\n",
      "  1  -1   1   1  -1  -1   1\n",
      "  1  -1   1  -1   1   1  -1\n",
      "  1  -1  -1   1   1  -1   1\n",
      "  1  -1  -1  -1   1   1   1\n"
     ]
    }
   ],
   "source": [
    "design = conference_designs[4][0]\n",
    "design.showarray()"
   ]
  },
  {
   "cell_type": "markdown",
   "metadata": {},
   "source": [
    "Calculate the corresponding definitive screening design."
   ]
  },
  {
   "cell_type": "code",
   "execution_count": 16,
   "metadata": {},
   "outputs": [
    {
     "name": "stdout",
     "output_type": "stream",
     "text": [
      "array: \n",
      "  0   1   1   1   1   1   1\n",
      "  1   0  -1  -1  -1  -1  -1\n",
      "  1   1   0  -1  -1   1   1\n",
      "  1   1   1   0   1  -1  -1\n",
      "  1   1   1  -1   0  -1   1\n",
      "  1   1  -1   1   1   0  -1\n",
      "  1   1  -1   1  -1   1   0\n",
      "  1  -1   1   1  -1   1  -1\n",
      "  1  -1   1   1  -1  -1   1\n",
      "  1  -1   1  -1   1   1  -1\n",
      "  1  -1  -1   1   1  -1   1\n",
      "  1  -1  -1  -1   1   1   1\n",
      "  0  -1  -1  -1  -1  -1  -1\n",
      " -1   0   1   1   1   1   1\n",
      " -1  -1   0   1   1  -1  -1\n",
      " -1  -1  -1   0  -1   1   1\n",
      " -1  -1  -1   1   0   1  -1\n",
      " -1  -1   1  -1  -1   0   1\n",
      " -1  -1   1  -1   1  -1   0\n",
      " -1   1  -1  -1   1  -1   1\n",
      " -1   1  -1  -1   1   1  -1\n",
      " -1   1  -1   1  -1  -1   1\n",
      " -1   1   1  -1  -1   1  -1\n",
      " -1   1   1   1  -1  -1  -1\n",
      "  0   0   0   0   0   0   0\n"
     ]
    }
   ],
   "source": [
    "dsd = oapackage.conference2DSD(design)\n",
    "dsd.showarray()"
   ]
  },
  {
   "cell_type": "code",
   "execution_count": 12,
   "metadata": {},
   "outputs": [
    {
     "name": "stdout",
     "output_type": "stream",
     "text": [
      "conferenceProjectionStatistics: 0.286 3.111 0.458  \n"
     ]
    }
   ],
   "source": [
    "PEC4, PIC4, PPC4 = oapackage.conference.conferenceProjectionStatistics(design, ncolumns=4, verbose=1)"
   ]
  }
 ],
 "metadata": {
  "kernelspec": {
   "display_name": "Python 3",
   "language": "python",
   "name": "python3"
  },
  "language_info": {
   "codemirror_mode": {
    "name": "ipython",
    "version": 3
   },
   "file_extension": ".py",
   "mimetype": "text/x-python",
   "name": "python",
   "nbconvert_exporter": "python",
   "pygments_lexer": "ipython3",
   "version": "3.6.3"
  }
 },
 "nbformat": 4,
 "nbformat_minor": 2
}
