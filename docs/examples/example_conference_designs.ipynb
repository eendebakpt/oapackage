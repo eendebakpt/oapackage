{
 "cells": [
  {
   "cell_type": "markdown",
   "metadata": {},
   "source": [
    "# Generation and analysis of conference designs"
   ]
  },
  {
   "cell_type": "markdown",
   "metadata": {},
   "source": [
    "In this notebook, we show how to generate conference designs and calculate properties of these designs. For details on conference designs and their properties, see [Statistical properties of orthogonal arrays](https://oapackage.readthedocs.io/en/latest/properties.html#statistical-properties-of-orthogonal-arrays) and :cite:`Schoen2018dsd`."
   ]
  },
  {
   "cell_type": "markdown",
   "metadata": {},
   "source": [
    "Load required libraries and define the class of conference designs to enumerate."
   ]
  },
  {
   "cell_type": "code",
   "execution_count": 1,
   "metadata": {},
   "outputs": [
    {
     "name": "stdout",
     "output_type": "stream",
     "text": [
      "conference class: number of rows 12, number of columns 6\n"
     ]
    }
   ],
   "source": [
    "import oapackage\n",
    "\n",
    "N=12 # Run size\n",
    "k=7 # Number of factors\n",
    "conference_class=oapackage.conference_t(N, k, 0)\n",
    "print(conference_class)"
   ]
  },
    {
   "cell_type": "markdown",
   "metadata": {},
   "source": [
    "Define root array and extend the lists of conference designs."
   ]
  },
  {
   "cell_type": "code",
   "execution_count": 2,
   "metadata": {},
   "outputs": [
    {
     "name": "stdout",
     "output_type": "stream",
     "text": [
      "extension resulted in 9 designs with 4 columns\n",
      "extension resulted in 42 designs with 5 columns\n",
      "extension resulted in 123 designs with 6 columns\n",
      "extension resulted in 184 designs with 7 columns\n"
     ]
    }
   ],
   "source": [
    "conference_designs=[[conference_class.create_root_three_columns()]]\n",
    "\n",
    "for ii, ncols in enumerate(range(4, 8)):\n",
    "    arrays = oapackage.extend_conference (conference_designs[ii], conference_class, verbose=0)\n",
    "    conference_designs.append(arrays)\n",
    "    print('extension resulted in %d designs with %d columns' % (len(arrays), ncols))"
   ]
  },
  {
   "cell_type": "markdown",
   "metadata": {},
   "source": [
    "## Properties of conference designs"
   ]
  },
  {
   "cell_type": "markdown",
   "metadata": {},
   "source": [
    "Here, we show how to calculate relevant properties of conference designs."
   ]
  },
  {
   "cell_type": "markdown",
   "metadata": {},
   "source": [
    "Select a 12-run 7-factor conference design generated previously."
   ]
  },
  {
   "cell_type": "code",
   "execution_count": 4,
   "metadata": {},
   "outputs": [
    {
     "name": "stdout",
     "output_type": "stream",
     "text": [
      "array:\n",
      "  0   1   1   1   1   1   1\n",
      "  1   0  -1  -1  -1  -1  -1\n",
      "  1   1   0  -1  -1   1   1\n",
      "  1   1   1   0   1  -1  -1\n",
      "  1   1   1  -1   0  -1   1\n",
      "  1   1  -1   1   1   0  -1\n",
      "  1   1  -1   1  -1   1   0\n",
      "  1  -1   1   1  -1   1  -1\n",
      "  1  -1   1   1  -1  -1   1\n",
      "  1  -1   1  -1   1   1  -1\n",
      "  1  -1  -1   1   1  -1   1\n",
      "  1  -1  -1  -1   1   1   1\n"
     ]
    }
   ],
   "source": [
    "design = conference_designs[4][0]\n",
    "design.showarray()"
   ]
  },
  {
   "cell_type": "markdown",
   "metadata": {},
   "source": [
    "A sensible criterion to evaluate conference designs is the so-called $F_4$-vector :cite:`Schoen2018dsd`. We can compute the $F_4$-vector of a conference design as follows."
   ]
  },
  {
   "cell_type": "code",
   "execution_count": 6,
   "metadata": {},
   "outputs": [
    {
     "data": {
      "text/plain": [
       "(0, 25, 10)"
      ]
     },
     "execution_count": 6,
     "metadata": {},
     "output_type": "execute_result"
    }
   ],
   "source": [
    "design.FvaluesConference(4)"
   ]
  },
  {
   "cell_type": "markdown",
   "metadata": {},
   "source": [
    ":cite:`Schoen2018dsd` showed that conference designs are good building blocks for definitive screening designs :cite:`Xiao2012`. The Orthogonal Array package can construct a definitive screening design from a conference design."
   ]
  },
  {
   "cell_type": "code",
   "execution_count": 9,
   "metadata": {},
   "outputs": [
    {
     "name": "stdout",
     "output_type": "stream",
     "text": [
      "array:\n",
      "  0   1   1   1   1   1   1\n",
      "  1   0  -1  -1  -1  -1  -1\n",
      "  1   1   0  -1  -1   1   1\n",
      "  1   1   1   0   1  -1  -1\n",
      "  1   1   1  -1   0  -1   1\n",
      "  1   1  -1   1   1   0  -1\n",
      "  1   1  -1   1  -1   1   0\n",
      "  1  -1   1   1  -1   1  -1\n",
      "  1  -1   1   1  -1  -1   1\n",
      "  1  -1   1  -1   1   1  -1\n",
      "  1  -1  -1   1   1  -1   1\n",
      "  1  -1  -1  -1   1   1   1\n",
      "  0  -1  -1  -1  -1  -1  -1\n",
      " -1   0   1   1   1   1   1\n",
      " -1  -1   0   1   1  -1  -1\n",
      " -1  -1  -1   0  -1   1   1\n",
      " -1  -1  -1   1   0   1  -1\n",
      " -1  -1   1  -1  -1   0   1\n",
      " -1  -1   1  -1   1  -1   0\n",
      " -1   1  -1  -1   1  -1   1\n",
      " -1   1  -1  -1   1   1  -1\n",
      " -1   1  -1   1  -1  -1   1\n",
      " -1   1   1  -1  -1   1  -1\n",
      " -1   1   1   1  -1  -1  -1\n",
      "  0   0   0   0   0   0   0\n"
     ]
    }
   ],
   "source": [
    "dsd = oapackage.conference2DSD(design)\n",
    "dsd.showarray()"
   ]
  },
  {
   "cell_type": "markdown",
   "metadata": {},
   "source": [
    "For the resulting definitive screening design, the Orthogonal Array package can compute some statistical properties based on projections into a smaller number of factors. For details on the projection properties, see [Pieter: LINK TO STATISTICAL PROPERTIES]."
   ]
  },
  {
   "cell_type": "code",
   "execution_count": 10,
   "metadata": {},
   "outputs": [
    {
     "name": "stdout",
     "output_type": "stream",
     "text": [
      "conferenceProjectionStatistics: projection to 4 columns: PEC 0.286 PIC 3.111 PPC 0.458  \n"
     ]
    }
   ],
   "source": [
    "PEC4, PIC4, PPC4 = oapackage.conference.conferenceProjectionStatistics(design, ncolumns=4, verbose=1)"
   ]
  }
 ],
 "metadata": {
  "kernelspec": {
   "display_name": "Python 3",
   "language": "python",
   "name": "python3"
  },
  "language_info": {
   "codemirror_mode": {
    "name": "ipython",
    "version": 3
   },
   "file_extension": ".py",
   "mimetype": "text/x-python",
   "name": "python",
   "nbconvert_exporter": "python",
   "pygments_lexer": "ipython3",
   "version": "3.6.3"
  }
 },
 "nbformat": 4,
 "nbformat_minor": 2
}
