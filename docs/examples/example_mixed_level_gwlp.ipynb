{
 "cells": [
  {
   "cell_type": "markdown",
   "metadata": {},
   "source": [
    "# Example of GWLP calculation for mixed-level designs"
   ]
  },
  {
   "cell_type": "markdown",
   "metadata": {},
   "source": [
    "References [xx]"
   ]
  },
  {
   "cell_type": "code",
   "execution_count": 1,
   "metadata": {},
   "outputs": [
    {
     "name": "stdout",
     "output_type": "stream",
     "text": [
      "exampleArray 56: design in OA(32, 42^{18})\n",
      "0000000\n",
      "0100110\n",
      "0101010\n",
      "0001100\n",
      "0110011\n",
      "0010101\n",
      "0011001\n",
      "0111111\n",
      "1010100\n",
      "1110010\n",
      "1111110\n",
      "1011000\n",
      "1100111\n",
      "1000001\n",
      "1001101\n",
      "1101011\n",
      "2101101\n",
      "2001011\n",
      "2000111\n",
      "2100001\n",
      "2011110\n",
      "2111000\n",
      "2110100\n",
      "2010010\n",
      "3111001\n",
      "3011111\n",
      "3010011\n",
      "3110101\n",
      "3001010\n",
      "3101100\n",
      "3100000\n",
      "3000110\n"
     ]
    }
   ],
   "source": [
    "import numpy as np\n",
    "\n",
    "import oapackage\n",
    "\n",
    "array = oapackage.exampleArray(56, 1)\n",
    "array = array.selectFirstColumns(7)\n",
    "arrayclass = oapackage.arraylink2arraydata(array)\n",
    "array.showarraycompact()"
   ]
  },
  {
   "cell_type": "code",
   "execution_count": 3,
   "metadata": {},
   "outputs": [
    {
     "name": "stdout",
     "output_type": "stream",
     "text": [
      "distance distribution for mixed-level design [[1 0 1 4 1 0 1]\n",
      " [0 2 6 8 6 2 0]]\n"
     ]
    }
   ],
   "source": [
    "Dm = oapackage.distance_distribution_mixed(array, 0)\n",
    "D = np.array(Dm).astype(int)\n",
    "print(f\"distance distribution for mixed-level design {D}\")"
   ]
  },
  {
   "cell_type": "code",
   "execution_count": 4,
   "metadata": {},
   "outputs": [
    {
     "name": "stdout",
     "output_type": "stream",
     "text": [
      "MacWilliams transform:\n",
      "[[1. 0. 0. 0. 1. 0. 0.]\n",
      " [0. 0. 2. 0. 4. 0. 0.]]\n"
     ]
    }
   ],
   "source": [
    "N = array.n_rows\n",
    "factor_levels_for_groups = arrayclass.factor_levels_column_groups()\n",
    "\n",
    "Bprime = oapackage.macwilliams_transform_mixed(\n",
    "    Dm, N, factor_levels_for_groups=arrayclass.factor_levels_column_groups(), verbose=0\n",
    ")\n",
    "print(f\"MacWilliams transform:\")\n",
    "print(np.array(Bprime))"
   ]
  },
  {
   "cell_type": "code",
   "execution_count": 5,
   "metadata": {},
   "outputs": [
    {
     "name": "stdout",
     "output_type": "stream",
     "text": [
      "GWLP: (1.0, 0.0, 0.0, 2.0, 1.0, 4.0, 0.0, 0.0)\n"
     ]
    }
   ],
   "source": [
    "gwlp_mixed = oapackage.GWLPmixed(array, 0)\n",
    "print(f\"GWLP: {gwlp_mixed}\")"
   ]
  }
 ],
 "metadata": {
  "kernelspec": {
   "display_name": "Python 3 (ipykernel)",
   "language": "python",
   "name": "python3"
  },
  "language_info": {
   "codemirror_mode": {
    "name": "ipython",
    "version": 3
   },
   "file_extension": ".py",
   "mimetype": "text/x-python",
   "name": "python",
   "nbconvert_exporter": "python",
   "pygments_lexer": "ipython3",
   "version": "3.8.6"
  }
 },
 "nbformat": 4,
 "nbformat_minor": 4
}
